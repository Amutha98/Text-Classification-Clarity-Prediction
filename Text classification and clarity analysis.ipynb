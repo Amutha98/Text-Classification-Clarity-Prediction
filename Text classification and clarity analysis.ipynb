{
 "cells": [
  {
   "cell_type": "markdown",
   "id": "dbf13f17-dd05-456c-b90d-e7c72f9ab3d1",
   "metadata": {},
   "source": [
    "#### Importing Packages"
   ]
  },
  {
   "cell_type": "code",
   "execution_count": 91,
   "id": "03bf9cc3-11d3-49e6-9a8b-6a82df763d54",
   "metadata": {},
   "outputs": [],
   "source": [
    "import pandas as pd\n",
    "import cleantext\n",
    "import spacy\n",
    "import string\n",
    "import warnings\n",
    "from sklearn.model_selection import train_test_split\n",
    "from sklearn.pipeline import Pipeline\n",
    "from sklearn.metrics import classification_report, ConfusionMatrixDisplay\n",
    "from sklearn.model_selection import GridSearchCV\n",
    "from sklearn.ensemble import RandomForestClassifier\n",
    "from sklearn.compose import ColumnTransformer\n",
    "from sklearn.preprocessing import OneHotEncoder, LabelEncoder, StandardScaler\n",
    "from imblearn.over_sampling import RandomOverSampler\n",
    "from sklearn.linear_model import LogisticRegression\n",
    "from sklearn.feature_extraction.text import TfidfVectorizer\n",
    "import numpy as np\n",
    "from sklearn.semi_supervised import LabelSpreading"
   ]
  },
  {
   "cell_type": "code",
   "execution_count": 3,
   "id": "25e17d5d-9ed6-43d0-8384-8db8452785e0",
   "metadata": {},
   "outputs": [],
   "source": [
    "warnings.simplefilter(\"ignore\")"
   ]
  },
  {
   "cell_type": "markdown",
   "id": "50565ea7-25d3-4f7c-af87-d95f5bab5513",
   "metadata": {},
   "source": [
    "#### 2. Reading the dataset"
   ]
  },
  {
   "cell_type": "code",
   "execution_count": 4,
   "id": "1e3aabd9-fc93-4575-bc52-7c8bd08a16f3",
   "metadata": {},
   "outputs": [],
   "source": [
    "coursework_dataset = pd.read_csv(\"comp1804_coursework_dataset_23-24.csv\")"
   ]
  },
  {
   "cell_type": "code",
   "execution_count": 140,
   "id": "bab417b6-441f-4ad8-99c0-2a89f12709b5",
   "metadata": {},
   "outputs": [],
   "source": [
    "data = pd.read_csv(\"comp1804_coursework_dataset_23-24.csv\")"
   ]
  },
  {
   "cell_type": "markdown",
   "id": "24df556f-7120-4f30-9626-7e6ca16f0bed",
   "metadata": {},
   "source": [
    "#### Dataset Main Characteristics"
   ]
  },
  {
   "cell_type": "markdown",
   "id": "01f30b53-f8e9-40c4-85c5-e851f4293159",
   "metadata": {},
   "source": [
    "##### 1. Dimension of Dataset"
   ]
  },
  {
   "cell_type": "code",
   "execution_count": 5,
   "id": "2a5d5eb8-e280-49f4-be7f-7617b4a7ba8c",
   "metadata": {},
   "outputs": [
    {
     "name": "stdout",
     "output_type": "stream",
     "text": [
      "(9347, 8)\n"
     ]
    }
   ],
   "source": [
    "print(coursework_dataset.shape)"
   ]
  },
  {
   "cell_type": "markdown",
   "id": "9bd1c46c-ee4d-46ff-b6ec-d362c1117cba",
   "metadata": {},
   "source": [
    "The dataset contains 9347 observations(rows) and 8 columns"
   ]
  },
  {
   "cell_type": "markdown",
   "id": "151a7461-03f8-4891-8830-43b2087fae43",
   "metadata": {},
   "source": [
    "The first 5 records in the dataset are:"
   ]
  },
  {
   "cell_type": "code",
   "execution_count": 6,
   "id": "a98b429b-b0ab-4fc9-928f-6d047b6aa2ec",
   "metadata": {},
   "outputs": [
    {
     "data": {
      "text/html": [
       "<div>\n",
       "<style scoped>\n",
       "    .dataframe tbody tr th:only-of-type {\n",
       "        vertical-align: middle;\n",
       "    }\n",
       "\n",
       "    .dataframe tbody tr th {\n",
       "        vertical-align: top;\n",
       "    }\n",
       "\n",
       "    .dataframe thead th {\n",
       "        text-align: right;\n",
       "    }\n",
       "</style>\n",
       "<table border=\"1\" class=\"dataframe\">\n",
       "  <thead>\n",
       "    <tr style=\"text-align: right;\">\n",
       "      <th></th>\n",
       "      <th>par_id</th>\n",
       "      <th>paragraph</th>\n",
       "      <th>has_entity</th>\n",
       "      <th>lexicon_count</th>\n",
       "      <th>difficult_words</th>\n",
       "      <th>last_editor_gender</th>\n",
       "      <th>category</th>\n",
       "      <th>text_clarity</th>\n",
       "    </tr>\n",
       "  </thead>\n",
       "  <tbody>\n",
       "    <tr>\n",
       "      <th>0</th>\n",
       "      <td>428209002237</td>\n",
       "      <td>Ramsay was born in Glasgow on 2 October 1852. ...</td>\n",
       "      <td>ORG_YES_PRODUCT_NO_PERSON_YES_</td>\n",
       "      <td>49</td>\n",
       "      <td>12.0</td>\n",
       "      <td>man</td>\n",
       "      <td>biographies</td>\n",
       "      <td>clear_enough</td>\n",
       "    </tr>\n",
       "    <tr>\n",
       "      <th>1</th>\n",
       "      <td>564218010072</td>\n",
       "      <td>It has been widely estimated for at least the ...</td>\n",
       "      <td>ORG_YES_PRODUCT_NO_PERSON_NO_</td>\n",
       "      <td>166</td>\n",
       "      <td>47.0</td>\n",
       "      <td>man</td>\n",
       "      <td>artificial intelligence</td>\n",
       "      <td>not_clear_enough</td>\n",
       "    </tr>\n",
       "    <tr>\n",
       "      <th>2</th>\n",
       "      <td>291401001672</td>\n",
       "      <td>He went on to win the Royal Medal of the Royal...</td>\n",
       "      <td>ORG_YES_PRODUCT_NO_PERSON_NO_</td>\n",
       "      <td>69</td>\n",
       "      <td>18.0</td>\n",
       "      <td>non-binary</td>\n",
       "      <td>biographies</td>\n",
       "      <td>clear_enough</td>\n",
       "    </tr>\n",
       "    <tr>\n",
       "      <th>3</th>\n",
       "      <td>31548004883</td>\n",
       "      <td>The changes have altered many underlying assum...</td>\n",
       "      <td>ORG_NO_PRODUCT_YES_PERSON_NO_</td>\n",
       "      <td>76</td>\n",
       "      <td>27.0</td>\n",
       "      <td>non-binary</td>\n",
       "      <td>programming</td>\n",
       "      <td>clear_enough</td>\n",
       "    </tr>\n",
       "    <tr>\n",
       "      <th>4</th>\n",
       "      <td>50634005146</td>\n",
       "      <td>After these novels were published, Disraeli de...</td>\n",
       "      <td>ORG_YES_PRODUCT_YES_PERSON_YES_</td>\n",
       "      <td>200</td>\n",
       "      <td>47.0</td>\n",
       "      <td>man</td>\n",
       "      <td>biographies</td>\n",
       "      <td>not_clear_enough</td>\n",
       "    </tr>\n",
       "  </tbody>\n",
       "</table>\n",
       "</div>"
      ],
      "text/plain": [
       "         par_id                                          paragraph  \\\n",
       "0  428209002237  Ramsay was born in Glasgow on 2 October 1852. ...   \n",
       "1  564218010072  It has been widely estimated for at least the ...   \n",
       "2  291401001672  He went on to win the Royal Medal of the Royal...   \n",
       "3   31548004883  The changes have altered many underlying assum...   \n",
       "4   50634005146  After these novels were published, Disraeli de...   \n",
       "\n",
       "                        has_entity  lexicon_count  difficult_words  \\\n",
       "0   ORG_YES_PRODUCT_NO_PERSON_YES_             49             12.0   \n",
       "1    ORG_YES_PRODUCT_NO_PERSON_NO_            166             47.0   \n",
       "2    ORG_YES_PRODUCT_NO_PERSON_NO_             69             18.0   \n",
       "3    ORG_NO_PRODUCT_YES_PERSON_NO_             76             27.0   \n",
       "4  ORG_YES_PRODUCT_YES_PERSON_YES_            200             47.0   \n",
       "\n",
       "  last_editor_gender                 category      text_clarity  \n",
       "0                man              biographies      clear_enough  \n",
       "1                man  artificial intelligence  not_clear_enough  \n",
       "2         non-binary              biographies      clear_enough  \n",
       "3         non-binary              programming      clear_enough  \n",
       "4                man              biographies  not_clear_enough  "
      ]
     },
     "execution_count": 6,
     "metadata": {},
     "output_type": "execute_result"
    }
   ],
   "source": [
    "coursework_dataset.head()"
   ]
  },
  {
   "cell_type": "markdown",
   "id": "1fa9be52-9311-460b-b3bf-33d13469c8f2",
   "metadata": {},
   "source": [
    "The last 5 records in the dataset are:"
   ]
  },
  {
   "cell_type": "code",
   "execution_count": 7,
   "id": "446c48bf-7042-4617-b214-cf37575cb775",
   "metadata": {},
   "outputs": [
    {
     "data": {
      "text/html": [
       "<div>\n",
       "<style scoped>\n",
       "    .dataframe tbody tr th:only-of-type {\n",
       "        vertical-align: middle;\n",
       "    }\n",
       "\n",
       "    .dataframe tbody tr th {\n",
       "        vertical-align: top;\n",
       "    }\n",
       "\n",
       "    .dataframe thead th {\n",
       "        text-align: right;\n",
       "    }\n",
       "</style>\n",
       "<table border=\"1\" class=\"dataframe\">\n",
       "  <thead>\n",
       "    <tr style=\"text-align: right;\">\n",
       "      <th></th>\n",
       "      <th>par_id</th>\n",
       "      <th>paragraph</th>\n",
       "      <th>has_entity</th>\n",
       "      <th>lexicon_count</th>\n",
       "      <th>difficult_words</th>\n",
       "      <th>last_editor_gender</th>\n",
       "      <th>category</th>\n",
       "      <th>text_clarity</th>\n",
       "    </tr>\n",
       "  </thead>\n",
       "  <tbody>\n",
       "    <tr>\n",
       "      <th>9342</th>\n",
       "      <td>200523007578</td>\n",
       "      <td>Sir Joseph Dalton Hooker  was a British botani...</td>\n",
       "      <td>ORG_YES_PRODUCT_NO_PERSON_YES_</td>\n",
       "      <td>54</td>\n",
       "      <td>16.0</td>\n",
       "      <td>man</td>\n",
       "      <td>biographies</td>\n",
       "      <td>NaN</td>\n",
       "    </tr>\n",
       "    <tr>\n",
       "      <th>9343</th>\n",
       "      <td>50634005203</td>\n",
       "      <td>As successful invasions of India generally cam...</td>\n",
       "      <td>ORG_YES_PRODUCT_NO_PERSON_YES_</td>\n",
       "      <td>217</td>\n",
       "      <td>46.0</td>\n",
       "      <td>woman</td>\n",
       "      <td>biographies</td>\n",
       "      <td>NaN</td>\n",
       "    </tr>\n",
       "    <tr>\n",
       "      <th>9344</th>\n",
       "      <td>6437003939</td>\n",
       "      <td>Hawking was born on 8 January 1942 in Oxford t...</td>\n",
       "      <td>ORG_YES_PRODUCT_NO_PERSON_YES_</td>\n",
       "      <td>91</td>\n",
       "      <td>27.0</td>\n",
       "      <td>woman</td>\n",
       "      <td>biographies</td>\n",
       "      <td>NaN</td>\n",
       "    </tr>\n",
       "    <tr>\n",
       "      <th>9345</th>\n",
       "      <td>725259002815</td>\n",
       "      <td>More complex tasks can be making custom data e...</td>\n",
       "      <td>ORG_YES_PRODUCT_NO_PERSON_NO_</td>\n",
       "      <td>47</td>\n",
       "      <td>15.0</td>\n",
       "      <td>man</td>\n",
       "      <td>programming</td>\n",
       "      <td>NaN</td>\n",
       "    </tr>\n",
       "    <tr>\n",
       "      <th>9346</th>\n",
       "      <td>109126000894</td>\n",
       "      <td>Governments, and especially the police and cou...</td>\n",
       "      <td>ORG_NO_PRODUCT_NO_PERSON_NO_</td>\n",
       "      <td>87</td>\n",
       "      <td>8.0</td>\n",
       "      <td>man</td>\n",
       "      <td>philosophy</td>\n",
       "      <td>NaN</td>\n",
       "    </tr>\n",
       "  </tbody>\n",
       "</table>\n",
       "</div>"
      ],
      "text/plain": [
       "            par_id                                          paragraph  \\\n",
       "9342  200523007578  Sir Joseph Dalton Hooker  was a British botani...   \n",
       "9343   50634005203  As successful invasions of India generally cam...   \n",
       "9344    6437003939  Hawking was born on 8 January 1942 in Oxford t...   \n",
       "9345  725259002815  More complex tasks can be making custom data e...   \n",
       "9346  109126000894  Governments, and especially the police and cou...   \n",
       "\n",
       "                          has_entity  lexicon_count  difficult_words  \\\n",
       "9342  ORG_YES_PRODUCT_NO_PERSON_YES_             54             16.0   \n",
       "9343  ORG_YES_PRODUCT_NO_PERSON_YES_            217             46.0   \n",
       "9344  ORG_YES_PRODUCT_NO_PERSON_YES_             91             27.0   \n",
       "9345   ORG_YES_PRODUCT_NO_PERSON_NO_             47             15.0   \n",
       "9346    ORG_NO_PRODUCT_NO_PERSON_NO_             87              8.0   \n",
       "\n",
       "     last_editor_gender     category text_clarity  \n",
       "9342                man  biographies          NaN  \n",
       "9343              woman  biographies          NaN  \n",
       "9344              woman  biographies          NaN  \n",
       "9345                man  programming          NaN  \n",
       "9346                man   philosophy          NaN  "
      ]
     },
     "execution_count": 7,
     "metadata": {},
     "output_type": "execute_result"
    }
   ],
   "source": [
    "coursework_dataset.tail()"
   ]
  },
  {
   "cell_type": "markdown",
   "id": "cb305614-0ccf-4d61-9940-aef3c623212d",
   "metadata": {},
   "source": [
    "The column names(features) are:"
   ]
  },
  {
   "cell_type": "code",
   "execution_count": 8,
   "id": "bfc86d26-2284-42e2-98fb-6aa8642fa96a",
   "metadata": {},
   "outputs": [
    {
     "data": {
      "text/plain": [
       "Index(['par_id', 'paragraph', 'has_entity', 'lexicon_count', 'difficult_words',\n",
       "       'last_editor_gender', 'category', 'text_clarity'],\n",
       "      dtype='object')"
      ]
     },
     "execution_count": 8,
     "metadata": {},
     "output_type": "execute_result"
    }
   ],
   "source": [
    "coursework_dataset.columns"
   ]
  },
  {
   "cell_type": "markdown",
   "id": "bf2610c2-dad6-42d0-9709-c2639a8335f8",
   "metadata": {},
   "source": [
    "The data type of column fields are:"
   ]
  },
  {
   "cell_type": "code",
   "execution_count": 9,
   "id": "9ea0f164-616a-49c1-bb4a-6567ff034abf",
   "metadata": {},
   "outputs": [
    {
     "data": {
      "text/plain": [
       "par_id                  int64\n",
       "paragraph              object\n",
       "has_entity             object\n",
       "lexicon_count           int64\n",
       "difficult_words       float64\n",
       "last_editor_gender     object\n",
       "category               object\n",
       "text_clarity           object\n",
       "dtype: object"
      ]
     },
     "execution_count": 9,
     "metadata": {},
     "output_type": "execute_result"
    }
   ],
   "source": [
    "coursework_dataset.dtypes"
   ]
  },
  {
   "cell_type": "markdown",
   "id": "475918f9-f026-44c5-ad96-2de331ddd20f",
   "metadata": {},
   "source": [
    "The datset has 3 numerical features"
   ]
  },
  {
   "cell_type": "markdown",
   "id": "f6848fca-47af-48d9-8f95-25e856d0a513",
   "metadata": {},
   "source": [
    "Summary statistics of numerical features"
   ]
  },
  {
   "cell_type": "code",
   "execution_count": 10,
   "id": "ef3f9985-8ac0-4876-b032-69faef514bb4",
   "metadata": {},
   "outputs": [
    {
     "data": {
      "text/html": [
       "<div>\n",
       "<style scoped>\n",
       "    .dataframe tbody tr th:only-of-type {\n",
       "        vertical-align: middle;\n",
       "    }\n",
       "\n",
       "    .dataframe tbody tr th {\n",
       "        vertical-align: top;\n",
       "    }\n",
       "\n",
       "    .dataframe thead th {\n",
       "        text-align: right;\n",
       "    }\n",
       "</style>\n",
       "<table border=\"1\" class=\"dataframe\">\n",
       "  <thead>\n",
       "    <tr style=\"text-align: right;\">\n",
       "      <th></th>\n",
       "      <th>par_id</th>\n",
       "      <th>lexicon_count</th>\n",
       "      <th>difficult_words</th>\n",
       "    </tr>\n",
       "  </thead>\n",
       "  <tbody>\n",
       "    <tr>\n",
       "      <th>count</th>\n",
       "      <td>9.347000e+03</td>\n",
       "      <td>9347.000000</td>\n",
       "      <td>9329.000000</td>\n",
       "    </tr>\n",
       "    <tr>\n",
       "      <th>mean</th>\n",
       "      <td>3.568369e+11</td>\n",
       "      <td>81.981277</td>\n",
       "      <td>21.514203</td>\n",
       "    </tr>\n",
       "    <tr>\n",
       "      <th>std</th>\n",
       "      <td>3.221399e+11</td>\n",
       "      <td>63.533532</td>\n",
       "      <td>16.307358</td>\n",
       "    </tr>\n",
       "    <tr>\n",
       "      <th>min</th>\n",
       "      <td>8.500328e+07</td>\n",
       "      <td>0.000000</td>\n",
       "      <td>0.000000</td>\n",
       "    </tr>\n",
       "    <tr>\n",
       "      <th>25%</th>\n",
       "      <td>7.019601e+10</td>\n",
       "      <td>33.000000</td>\n",
       "      <td>9.000000</td>\n",
       "    </tr>\n",
       "    <tr>\n",
       "      <th>50%</th>\n",
       "      <td>2.684380e+11</td>\n",
       "      <td>64.000000</td>\n",
       "      <td>17.000000</td>\n",
       "    </tr>\n",
       "    <tr>\n",
       "      <th>75%</th>\n",
       "      <td>6.124310e+11</td>\n",
       "      <td>117.000000</td>\n",
       "      <td>30.000000</td>\n",
       "    </tr>\n",
       "    <tr>\n",
       "      <th>max</th>\n",
       "      <td>1.058779e+12</td>\n",
       "      <td>653.000000</td>\n",
       "      <td>143.000000</td>\n",
       "    </tr>\n",
       "  </tbody>\n",
       "</table>\n",
       "</div>"
      ],
      "text/plain": [
       "             par_id  lexicon_count  difficult_words\n",
       "count  9.347000e+03    9347.000000      9329.000000\n",
       "mean   3.568369e+11      81.981277        21.514203\n",
       "std    3.221399e+11      63.533532        16.307358\n",
       "min    8.500328e+07       0.000000         0.000000\n",
       "25%    7.019601e+10      33.000000         9.000000\n",
       "50%    2.684380e+11      64.000000        17.000000\n",
       "75%    6.124310e+11     117.000000        30.000000\n",
       "max    1.058779e+12     653.000000       143.000000"
      ]
     },
     "execution_count": 10,
     "metadata": {},
     "output_type": "execute_result"
    }
   ],
   "source": [
    "coursework_dataset.describe()"
   ]
  },
  {
   "cell_type": "markdown",
   "id": "9bc236bc-d9a4-4a06-a7a5-05b689ed88cf",
   "metadata": {},
   "source": [
    "The maximum number of words a sentence has is 653 and the minimum is 0. The maximum number of difficult words a sentence has is 143 and the minimum is 0"
   ]
  },
  {
   "cell_type": "markdown",
   "id": "b1ea8c4c-3817-47af-93ab-ee4d55203286",
   "metadata": {},
   "source": [
    "Information about categorical columns in the dataset"
   ]
  },
  {
   "cell_type": "code",
   "execution_count": 11,
   "id": "feb1b7b4-f194-4a3d-8266-b483c769ab20",
   "metadata": {},
   "outputs": [
    {
     "name": "stdout",
     "output_type": "stream",
     "text": [
      "Categories and number of occurrences for last_editor_gender: \n",
      "last_editor_gender\n",
      "man                  6244\n",
      "woman                2466\n",
      "non-binary            361\n",
      "prefer_not_to_say     276\n",
      "Name: count, dtype: int64\n",
      "\n",
      "Categories and number of occurrences for category: \n",
      "category\n",
      "biographies                             2942\n",
      "philosophy                              2585\n",
      "programming                             1980\n",
      "artificial intelligence                 1565\n",
      "movies about artificial intelligence     166\n",
      "Philosophy                                13\n",
      "Biographies                               13\n",
      "Artificial intelligence                   11\n",
      "Programming                               10\n",
      "Movies about artificial intelligence       1\n",
      "Name: count, dtype: int64\n",
      "\n",
      "Categories and number of occurrences for text_clarity: \n",
      "text_clarity\n",
      "clear_enough        5\n",
      "not_clear_enough    4\n",
      "Name: count, dtype: int64\n",
      "\n"
     ]
    }
   ],
   "source": [
    "# list all categorical columns\n",
    "categorical_columns = ['last_editor_gender','category','text_clarity']\n",
    "# find the count of each column\n",
    "for column in categorical_columns:\n",
    "    print(f\"Categories and number of occurrences for {column}: \")\n",
    "    print(coursework_dataset[column].value_counts())\n",
    "    print()"
   ]
  },
  {
   "cell_type": "markdown",
   "id": "cc6989c6-6d4f-4c38-8357-f9b323c5bccc",
   "metadata": {},
   "source": [
    "##### Checking for any issues in the dataset"
   ]
  },
  {
   "cell_type": "markdown",
   "id": "38235fd3-f287-4bd0-8872-1942fd1bbaf8",
   "metadata": {},
   "source": [
    "1. Duplicate Values"
   ]
  },
  {
   "cell_type": "code",
   "execution_count": 12,
   "id": "56ad2240-18e0-458a-ba69-c19fd9b4bcd2",
   "metadata": {},
   "outputs": [
    {
     "name": "stdout",
     "output_type": "stream",
     "text": [
      "There are 215 duplicate rows.\n"
     ]
    }
   ],
   "source": [
    "#checking for duplicate values in the dataset. The result will be True for rows that are a duplicate and False for rows that are not a duplicate\n",
    "duplicate_entries = coursework_dataset.duplicated()\n",
    "print(f'There are {duplicate_entries.sum()} duplicate rows.')"
   ]
  },
  {
   "cell_type": "markdown",
   "id": "5b7a8251-0be3-40f3-990a-f9dbdfd93637",
   "metadata": {},
   "source": [
    "2. Missing Values"
   ]
  },
  {
   "cell_type": "code",
   "execution_count": 13,
   "id": "af0cc2b4-fc5d-4b54-8935-590956d04d9e",
   "metadata": {},
   "outputs": [
    {
     "name": "stdout",
     "output_type": "stream",
     "text": [
      "par_id                   0\n",
      "paragraph                0\n",
      "has_entity               0\n",
      "lexicon_count            0\n",
      "difficult_words         18\n",
      "last_editor_gender       0\n",
      "category                61\n",
      "text_clarity          9338\n",
      "dtype: int64\n"
     ]
    }
   ],
   "source": [
    "print(coursework_dataset.isna().sum())"
   ]
  },
  {
   "cell_type": "markdown",
   "id": "135a25c9-f364-41f4-b274-a9c3b691b782",
   "metadata": {},
   "source": [
    "Here the column 'difficult_words' have 18 missing values, 'category' has 61 missing values and 'text_clarity' has 9338 missing values"
   ]
  },
  {
   "cell_type": "markdown",
   "id": "650fe3f8-0d38-48e8-a117-6de17738e54d",
   "metadata": {},
   "source": [
    "3. Mismatched Values"
   ]
  },
  {
   "cell_type": "code",
   "execution_count": 14,
   "id": "0a3e6a54-19ee-4220-a557-61ec850a4752",
   "metadata": {},
   "outputs": [
    {
     "name": "stdout",
     "output_type": "stream",
     "text": [
      "Categories and number of occurrences for last_editor_gender: \n",
      "last_editor_gender\n",
      "man                  6244\n",
      "woman                2466\n",
      "non-binary            361\n",
      "prefer_not_to_say     276\n",
      "Name: count, dtype: int64\n",
      "\n",
      "Categories and number of occurrences for category: \n",
      "category\n",
      "biographies                             2942\n",
      "philosophy                              2585\n",
      "programming                             1980\n",
      "artificial intelligence                 1565\n",
      "movies about artificial intelligence     166\n",
      "Philosophy                                13\n",
      "Biographies                               13\n",
      "Artificial intelligence                   11\n",
      "Programming                               10\n",
      "Movies about artificial intelligence       1\n",
      "Name: count, dtype: int64\n",
      "\n",
      "Categories and number of occurrences for text_clarity: \n",
      "text_clarity\n",
      "clear_enough        5\n",
      "not_clear_enough    4\n",
      "Name: count, dtype: int64\n",
      "\n"
     ]
    }
   ],
   "source": [
    "categorical_columns = ['last_editor_gender','category','text_clarity']\n",
    "# find the count of each column\n",
    "for column in categorical_columns:\n",
    "    print(f\"Categories and number of occurrences for {column}: \")\n",
    "    print(coursework_dataset[column].value_counts())\n",
    "    print()"
   ]
  },
  {
   "cell_type": "markdown",
   "id": "c10af68f-10c4-4d9b-a7b9-af7edfeb7df1",
   "metadata": {},
   "source": [
    "The column 'category' contains mismatched values:\n",
    "\n",
    "1. biographies should be the same as Biographies\n",
    "2. philosophy should be the same as Philosophy\n",
    "3. programming should be the same as Programming\n",
    "4. artificial intelligence should be the same as Artificial intelligence\n",
    "5. movies about artificial intelligence should be the same as Movies about artificial intelligence"
   ]
  },
  {
   "cell_type": "markdown",
   "id": "b689022f-bd02-446d-9804-76d7cdfde3e1",
   "metadata": {},
   "source": [
    "Here we have to perform two tasks, one is topic classification and the other one is text clarity classification. So, the target labels are 'category' and 'text_clarity'"
   ]
  },
  {
   "cell_type": "code",
   "execution_count": 15,
   "id": "53ab104c-6ad0-4873-90f5-e2dd7e9618a4",
   "metadata": {},
   "outputs": [],
   "source": [
    "# Removing the duplicate rows\n",
    "coursework_dataset = coursework_dataset.drop_duplicates()"
   ]
  },
  {
   "cell_type": "code",
   "execution_count": 16,
   "id": "448d462a-4abd-4faa-923c-4171fdbc58e3",
   "metadata": {},
   "outputs": [
    {
     "data": {
      "text/plain": [
       "(9132, 8)"
      ]
     },
     "execution_count": 16,
     "metadata": {},
     "output_type": "execute_result"
    }
   ],
   "source": [
    "# Dimension of dataset after removing the duplicate values\n",
    "coursework_dataset.shape"
   ]
  },
  {
   "cell_type": "markdown",
   "id": "31c39b11-a468-4e47-883d-f70bf687999c",
   "metadata": {},
   "source": [
    "After removing duplicate entries, the dataset has 9132 rows and 8 columns"
   ]
  },
  {
   "cell_type": "markdown",
   "id": "dc70cb0d-383d-4e4d-830a-858204451594",
   "metadata": {},
   "source": [
    "### Task 1: Topic Classification\n",
    "\n",
    "In this task, the model should predict whether a given paragraph of text is about \"artificial intelligence\", \"movies about artificial intelligence\", \"programming\", \"philosophy\" or \"biographies\". For Topic classification, the input features to be used are 'paragraph' and 'has_entity' and the label i.e., the topic to be predicted is in the column 'category'. The first step is to extract these input features and labels from the original dataset.."
   ]
  },
  {
   "cell_type": "code",
   "execution_count": 17,
   "id": "1d8fd736-de1b-4cfd-ae6c-8ef6832783f5",
   "metadata": {},
   "outputs": [],
   "source": [
    "# Extracting the input features and label column necessary for topic classification from the dataset\n",
    "features = ['paragraph','has_entity']\n",
    "feature_dataset = coursework_dataset[features]\n",
    "label = coursework_dataset[['category']].copy()"
   ]
  },
  {
   "cell_type": "code",
   "execution_count": 18,
   "id": "3c889bca-2c70-4e77-b15f-f16a64749af7",
   "metadata": {},
   "outputs": [
    {
     "name": "stdout",
     "output_type": "stream",
     "text": [
      " Shape of feature dataset is (9132, 2)\n",
      " Shape of label dataset is (9132, 1)\n"
     ]
    }
   ],
   "source": [
    "# Shape of feature dataset\n",
    "print(f\" Shape of feature dataset is {feature_dataset.shape}\")\n",
    "# Shape of label dataset\n",
    "print(f\" Shape of label dataset is {label.shape}\")"
   ]
  },
  {
   "cell_type": "code",
   "execution_count": 19,
   "id": "6c708836-c87b-4a4f-8564-36e8fe013c9e",
   "metadata": {},
   "outputs": [
    {
     "ename": "ValueError",
     "evalue": "Input contains NaN",
     "output_type": "error",
     "traceback": [
      "\u001b[1;31m---------------------------------------------------------------------------\u001b[0m",
      "\u001b[1;31mValueError\u001b[0m                                Traceback (most recent call last)",
      "Cell \u001b[1;32mIn[19], line 2\u001b[0m\n\u001b[0;32m      1\u001b[0m \u001b[38;5;66;03m# Data Splitting\u001b[39;00m\n\u001b[1;32m----> 2\u001b[0m train_dataset, test_dataset, train_label, test_label \u001b[38;5;241m=\u001b[39m \u001b[43mtrain_test_split\u001b[49m\u001b[43m(\u001b[49m\u001b[43mfeature_dataset\u001b[49m\u001b[43m,\u001b[49m\u001b[43mlabel\u001b[49m\u001b[43m,\u001b[49m\n\u001b[0;32m      3\u001b[0m \u001b[43m                                                                        \u001b[49m\u001b[43mtest_size\u001b[49m\u001b[38;5;241;43m=\u001b[39;49m\u001b[38;5;241;43m0.2\u001b[39;49m\u001b[43m,\u001b[49m\n\u001b[0;32m      4\u001b[0m \u001b[43m                                                                        \u001b[49m\u001b[43mstratify\u001b[49m\u001b[38;5;241;43m=\u001b[39;49m\u001b[43mlabel\u001b[49m\u001b[43m,\u001b[49m\n\u001b[0;32m      5\u001b[0m \u001b[43m                                                                        \u001b[49m\u001b[43mshuffle\u001b[49m\u001b[38;5;241;43m=\u001b[39;49m\u001b[38;5;28;43;01mTrue\u001b[39;49;00m\u001b[43m,\u001b[49m\n\u001b[0;32m      6\u001b[0m \u001b[43m                                                                        \u001b[49m\u001b[43mrandom_state\u001b[49m\u001b[38;5;241;43m=\u001b[39;49m\u001b[38;5;241;43m7\u001b[39;49m\n\u001b[0;32m      7\u001b[0m \u001b[43m                                                                       \u001b[49m\u001b[43m)\u001b[49m\n",
      "File \u001b[1;32mE:\\coursework\\Lib\\site-packages\\sklearn\\utils\\_param_validation.py:213\u001b[0m, in \u001b[0;36mvalidate_params.<locals>.decorator.<locals>.wrapper\u001b[1;34m(*args, **kwargs)\u001b[0m\n\u001b[0;32m    207\u001b[0m \u001b[38;5;28;01mtry\u001b[39;00m:\n\u001b[0;32m    208\u001b[0m     \u001b[38;5;28;01mwith\u001b[39;00m config_context(\n\u001b[0;32m    209\u001b[0m         skip_parameter_validation\u001b[38;5;241m=\u001b[39m(\n\u001b[0;32m    210\u001b[0m             prefer_skip_nested_validation \u001b[38;5;129;01mor\u001b[39;00m global_skip_validation\n\u001b[0;32m    211\u001b[0m         )\n\u001b[0;32m    212\u001b[0m     ):\n\u001b[1;32m--> 213\u001b[0m         \u001b[38;5;28;01mreturn\u001b[39;00m \u001b[43mfunc\u001b[49m\u001b[43m(\u001b[49m\u001b[38;5;241;43m*\u001b[39;49m\u001b[43margs\u001b[49m\u001b[43m,\u001b[49m\u001b[43m \u001b[49m\u001b[38;5;241;43m*\u001b[39;49m\u001b[38;5;241;43m*\u001b[39;49m\u001b[43mkwargs\u001b[49m\u001b[43m)\u001b[49m\n\u001b[0;32m    214\u001b[0m \u001b[38;5;28;01mexcept\u001b[39;00m InvalidParameterError \u001b[38;5;28;01mas\u001b[39;00m e:\n\u001b[0;32m    215\u001b[0m     \u001b[38;5;66;03m# When the function is just a wrapper around an estimator, we allow\u001b[39;00m\n\u001b[0;32m    216\u001b[0m     \u001b[38;5;66;03m# the function to delegate validation to the estimator, but we replace\u001b[39;00m\n\u001b[0;32m    217\u001b[0m     \u001b[38;5;66;03m# the name of the estimator by the name of the function in the error\u001b[39;00m\n\u001b[0;32m    218\u001b[0m     \u001b[38;5;66;03m# message to avoid confusion.\u001b[39;00m\n\u001b[0;32m    219\u001b[0m     msg \u001b[38;5;241m=\u001b[39m re\u001b[38;5;241m.\u001b[39msub(\n\u001b[0;32m    220\u001b[0m         \u001b[38;5;124mr\u001b[39m\u001b[38;5;124m\"\u001b[39m\u001b[38;5;124mparameter of \u001b[39m\u001b[38;5;124m\\\u001b[39m\u001b[38;5;124mw+ must be\u001b[39m\u001b[38;5;124m\"\u001b[39m,\n\u001b[0;32m    221\u001b[0m         \u001b[38;5;124mf\u001b[39m\u001b[38;5;124m\"\u001b[39m\u001b[38;5;124mparameter of \u001b[39m\u001b[38;5;132;01m{\u001b[39;00mfunc\u001b[38;5;241m.\u001b[39m\u001b[38;5;18m__qualname__\u001b[39m\u001b[38;5;132;01m}\u001b[39;00m\u001b[38;5;124m must be\u001b[39m\u001b[38;5;124m\"\u001b[39m,\n\u001b[0;32m    222\u001b[0m         \u001b[38;5;28mstr\u001b[39m(e),\n\u001b[0;32m    223\u001b[0m     )\n",
      "File \u001b[1;32mE:\\coursework\\Lib\\site-packages\\sklearn\\model_selection\\_split.py:2681\u001b[0m, in \u001b[0;36mtrain_test_split\u001b[1;34m(test_size, train_size, random_state, shuffle, stratify, *arrays)\u001b[0m\n\u001b[0;32m   2677\u001b[0m         CVClass \u001b[38;5;241m=\u001b[39m ShuffleSplit\n\u001b[0;32m   2679\u001b[0m     cv \u001b[38;5;241m=\u001b[39m CVClass(test_size\u001b[38;5;241m=\u001b[39mn_test, train_size\u001b[38;5;241m=\u001b[39mn_train, random_state\u001b[38;5;241m=\u001b[39mrandom_state)\n\u001b[1;32m-> 2681\u001b[0m     train, test \u001b[38;5;241m=\u001b[39m \u001b[38;5;28mnext\u001b[39m(\u001b[43mcv\u001b[49m\u001b[38;5;241;43m.\u001b[39;49m\u001b[43msplit\u001b[49m\u001b[43m(\u001b[49m\u001b[43mX\u001b[49m\u001b[38;5;241;43m=\u001b[39;49m\u001b[43marrays\u001b[49m\u001b[43m[\u001b[49m\u001b[38;5;241;43m0\u001b[39;49m\u001b[43m]\u001b[49m\u001b[43m,\u001b[49m\u001b[43m \u001b[49m\u001b[43my\u001b[49m\u001b[38;5;241;43m=\u001b[39;49m\u001b[43mstratify\u001b[49m\u001b[43m)\u001b[49m)\n\u001b[0;32m   2683\u001b[0m \u001b[38;5;28;01mreturn\u001b[39;00m \u001b[38;5;28mlist\u001b[39m(\n\u001b[0;32m   2684\u001b[0m     chain\u001b[38;5;241m.\u001b[39mfrom_iterable(\n\u001b[0;32m   2685\u001b[0m         (_safe_indexing(a, train), _safe_indexing(a, test)) \u001b[38;5;28;01mfor\u001b[39;00m a \u001b[38;5;129;01min\u001b[39;00m arrays\n\u001b[0;32m   2686\u001b[0m     )\n\u001b[0;32m   2687\u001b[0m )\n",
      "File \u001b[1;32mE:\\coursework\\Lib\\site-packages\\sklearn\\model_selection\\_split.py:2232\u001b[0m, in \u001b[0;36mStratifiedShuffleSplit.split\u001b[1;34m(self, X, y, groups)\u001b[0m\n\u001b[0;32m   2198\u001b[0m \u001b[38;5;28;01mdef\u001b[39;00m \u001b[38;5;21msplit\u001b[39m(\u001b[38;5;28mself\u001b[39m, X, y, groups\u001b[38;5;241m=\u001b[39m\u001b[38;5;28;01mNone\u001b[39;00m):\n\u001b[0;32m   2199\u001b[0m \u001b[38;5;250m    \u001b[39m\u001b[38;5;124;03m\"\"\"Generate indices to split data into training and test set.\u001b[39;00m\n\u001b[0;32m   2200\u001b[0m \n\u001b[0;32m   2201\u001b[0m \u001b[38;5;124;03m    Parameters\u001b[39;00m\n\u001b[1;32m   (...)\u001b[0m\n\u001b[0;32m   2230\u001b[0m \u001b[38;5;124;03m    to an integer.\u001b[39;00m\n\u001b[0;32m   2231\u001b[0m \u001b[38;5;124;03m    \"\"\"\u001b[39;00m\n\u001b[1;32m-> 2232\u001b[0m     y \u001b[38;5;241m=\u001b[39m \u001b[43mcheck_array\u001b[49m\u001b[43m(\u001b[49m\u001b[43my\u001b[49m\u001b[43m,\u001b[49m\u001b[43m \u001b[49m\u001b[43minput_name\u001b[49m\u001b[38;5;241;43m=\u001b[39;49m\u001b[38;5;124;43m\"\u001b[39;49m\u001b[38;5;124;43my\u001b[39;49m\u001b[38;5;124;43m\"\u001b[39;49m\u001b[43m,\u001b[49m\u001b[43m \u001b[49m\u001b[43mensure_2d\u001b[49m\u001b[38;5;241;43m=\u001b[39;49m\u001b[38;5;28;43;01mFalse\u001b[39;49;00m\u001b[43m,\u001b[49m\u001b[43m \u001b[49m\u001b[43mdtype\u001b[49m\u001b[38;5;241;43m=\u001b[39;49m\u001b[38;5;28;43;01mNone\u001b[39;49;00m\u001b[43m)\u001b[49m\n\u001b[0;32m   2233\u001b[0m     \u001b[38;5;28;01mreturn\u001b[39;00m \u001b[38;5;28msuper\u001b[39m()\u001b[38;5;241m.\u001b[39msplit(X, y, groups)\n",
      "File \u001b[1;32mE:\\coursework\\Lib\\site-packages\\sklearn\\utils\\validation.py:1049\u001b[0m, in \u001b[0;36mcheck_array\u001b[1;34m(array, accept_sparse, accept_large_sparse, dtype, order, copy, force_all_finite, ensure_2d, allow_nd, ensure_min_samples, ensure_min_features, estimator, input_name)\u001b[0m\n\u001b[0;32m   1043\u001b[0m     \u001b[38;5;28;01mraise\u001b[39;00m \u001b[38;5;167;01mValueError\u001b[39;00m(\n\u001b[0;32m   1044\u001b[0m         \u001b[38;5;124m\"\u001b[39m\u001b[38;5;124mFound array with dim \u001b[39m\u001b[38;5;132;01m%d\u001b[39;00m\u001b[38;5;124m. \u001b[39m\u001b[38;5;132;01m%s\u001b[39;00m\u001b[38;5;124m expected <= 2.\u001b[39m\u001b[38;5;124m\"\u001b[39m\n\u001b[0;32m   1045\u001b[0m         \u001b[38;5;241m%\u001b[39m (array\u001b[38;5;241m.\u001b[39mndim, estimator_name)\n\u001b[0;32m   1046\u001b[0m     )\n\u001b[0;32m   1048\u001b[0m \u001b[38;5;28;01mif\u001b[39;00m force_all_finite:\n\u001b[1;32m-> 1049\u001b[0m     \u001b[43m_assert_all_finite\u001b[49m\u001b[43m(\u001b[49m\n\u001b[0;32m   1050\u001b[0m \u001b[43m        \u001b[49m\u001b[43marray\u001b[49m\u001b[43m,\u001b[49m\n\u001b[0;32m   1051\u001b[0m \u001b[43m        \u001b[49m\u001b[43minput_name\u001b[49m\u001b[38;5;241;43m=\u001b[39;49m\u001b[43minput_name\u001b[49m\u001b[43m,\u001b[49m\n\u001b[0;32m   1052\u001b[0m \u001b[43m        \u001b[49m\u001b[43mestimator_name\u001b[49m\u001b[38;5;241;43m=\u001b[39;49m\u001b[43mestimator_name\u001b[49m\u001b[43m,\u001b[49m\n\u001b[0;32m   1053\u001b[0m \u001b[43m        \u001b[49m\u001b[43mallow_nan\u001b[49m\u001b[38;5;241;43m=\u001b[39;49m\u001b[43mforce_all_finite\u001b[49m\u001b[43m \u001b[49m\u001b[38;5;241;43m==\u001b[39;49m\u001b[43m \u001b[49m\u001b[38;5;124;43m\"\u001b[39;49m\u001b[38;5;124;43mallow-nan\u001b[39;49m\u001b[38;5;124;43m\"\u001b[39;49m\u001b[43m,\u001b[49m\n\u001b[0;32m   1054\u001b[0m \u001b[43m    \u001b[49m\u001b[43m)\u001b[49m\n\u001b[0;32m   1056\u001b[0m \u001b[38;5;28;01mif\u001b[39;00m copy:\n\u001b[0;32m   1057\u001b[0m     \u001b[38;5;28;01mif\u001b[39;00m _is_numpy_namespace(xp):\n\u001b[0;32m   1058\u001b[0m         \u001b[38;5;66;03m# only make a copy if `array` and `array_orig` may share memory`\u001b[39;00m\n",
      "File \u001b[1;32mE:\\coursework\\Lib\\site-packages\\sklearn\\utils\\validation.py:111\u001b[0m, in \u001b[0;36m_assert_all_finite\u001b[1;34m(X, allow_nan, msg_dtype, estimator_name, input_name)\u001b[0m\n\u001b[0;32m    109\u001b[0m \u001b[38;5;28;01mif\u001b[39;00m X\u001b[38;5;241m.\u001b[39mdtype \u001b[38;5;241m==\u001b[39m np\u001b[38;5;241m.\u001b[39mdtype(\u001b[38;5;124m\"\u001b[39m\u001b[38;5;124mobject\u001b[39m\u001b[38;5;124m\"\u001b[39m) \u001b[38;5;129;01mand\u001b[39;00m \u001b[38;5;129;01mnot\u001b[39;00m allow_nan:\n\u001b[0;32m    110\u001b[0m     \u001b[38;5;28;01mif\u001b[39;00m _object_dtype_isnan(X)\u001b[38;5;241m.\u001b[39many():\n\u001b[1;32m--> 111\u001b[0m         \u001b[38;5;28;01mraise\u001b[39;00m \u001b[38;5;167;01mValueError\u001b[39;00m(\u001b[38;5;124m\"\u001b[39m\u001b[38;5;124mInput contains NaN\u001b[39m\u001b[38;5;124m\"\u001b[39m)\n\u001b[0;32m    113\u001b[0m \u001b[38;5;66;03m# We need only consider float arrays, hence can early return for all else.\u001b[39;00m\n\u001b[0;32m    114\u001b[0m \u001b[38;5;28;01mif\u001b[39;00m \u001b[38;5;129;01mnot\u001b[39;00m xp\u001b[38;5;241m.\u001b[39misdtype(X\u001b[38;5;241m.\u001b[39mdtype, (\u001b[38;5;124m\"\u001b[39m\u001b[38;5;124mreal floating\u001b[39m\u001b[38;5;124m\"\u001b[39m, \u001b[38;5;124m\"\u001b[39m\u001b[38;5;124mcomplex floating\u001b[39m\u001b[38;5;124m\"\u001b[39m)):\n",
      "\u001b[1;31mValueError\u001b[0m: Input contains NaN"
     ]
    }
   ],
   "source": [
    "# Data Splitting\n",
    "train_dataset, test_dataset, train_label, test_label = train_test_split(feature_dataset,label,\n",
    "                                                                        test_size=0.2,\n",
    "                                                                        stratify=label,\n",
    "                                                                        shuffle=True,\n",
    "                                                                        random_state=7\n",
    "                                                                       )"
   ]
  },
  {
   "cell_type": "markdown",
   "id": "545c9f26-7d0b-480e-81ec-64a59de5a2a4",
   "metadata": {},
   "source": [
    "Here when trying to do a stratified split, got a valueError since stratified split is based on the values in the label variable and it have null values. So, before doing stratified split, null values in the label should be removed"
   ]
  },
  {
   "cell_type": "code",
   "execution_count": 20,
   "id": "294aa343-ca5a-4e3f-a5ae-606f8e1a40dd",
   "metadata": {},
   "outputs": [
    {
     "name": "stdout",
     "output_type": "stream",
     "text": [
      "Missing value count in feature dataset\n",
      "paragraph     0\n",
      "has_entity    0\n",
      "dtype: int64\n",
      "\n",
      "Missing value count in label data\n",
      "category    61\n",
      "dtype: int64\n"
     ]
    }
   ],
   "source": [
    "print(\"Missing value count in feature dataset\")\n",
    "print(feature_dataset.isna().sum())\n",
    "print()\n",
    "\n",
    "print(\"Missing value count in label data\")\n",
    "print(label.isna().sum())"
   ]
  },
  {
   "cell_type": "markdown",
   "id": "ebde2bfb-8ccf-4bbf-bc6d-a6e84e259c6e",
   "metadata": {},
   "source": [
    "The label column 'category' contains 61 missing values. Here, the ideal approach is to remove those missing values."
   ]
  },
  {
   "cell_type": "code",
   "execution_count": 21,
   "id": "0bea3591-5380-4c4b-9163-4680298f6ac0",
   "metadata": {},
   "outputs": [
    {
     "name": "stdout",
     "output_type": "stream",
     "text": [
      "Shape of the dataset before removing missing values\n",
      "Feature dataset shape: (9132, 2)\n",
      "Label dataset shape: (9132, 1)\n"
     ]
    }
   ],
   "source": [
    "# Removing the missing values\n",
    "print(\"Shape of the dataset before removing missing values\")\n",
    "print(f\"Feature dataset shape: {feature_dataset.shape}\")\n",
    "print(f\"Label dataset shape: {label.shape}\")"
   ]
  },
  {
   "cell_type": "code",
   "execution_count": 22,
   "id": "b2c4bb4e-d6b2-453e-8511-4a126f36c95f",
   "metadata": {},
   "outputs": [],
   "source": [
    "# Removing missing values from the label dataset\n",
    "label = label.dropna()\n",
    "# Removing corresponding rows from the feature dataset\n",
    "feature_dataset = feature_dataset.loc[label.index]"
   ]
  },
  {
   "cell_type": "code",
   "execution_count": 23,
   "id": "8bd418de-3f79-47eb-9e90-bea8cce2e263",
   "metadata": {},
   "outputs": [
    {
     "name": "stdout",
     "output_type": "stream",
     "text": [
      "Shape of the dataset after removing missing values\n",
      "Feature dataset shape: (9071, 2)\n",
      "Label dataset shape: (9071, 1)\n",
      "\n"
     ]
    }
   ],
   "source": [
    "print(\"Shape of the dataset after removing missing values\")\n",
    "print(f\"Feature dataset shape: {feature_dataset.shape}\")\n",
    "print(f\"Label dataset shape: {label.shape}\")\n",
    "print()"
   ]
  },
  {
   "cell_type": "markdown",
   "id": "e5b59c39-c4ba-480f-8bdd-bb93ce86fc44",
   "metadata": {},
   "source": [
    "Handling the Mismatched values in the label"
   ]
  },
  {
   "cell_type": "code",
   "execution_count": 24,
   "id": "fb6a2a0a-6957-4b61-b3fe-57b0889db108",
   "metadata": {},
   "outputs": [
    {
     "name": "stdout",
     "output_type": "stream",
     "text": [
      "category                            \n",
      "biographies                             2886\n",
      "philosophy                              2511\n",
      "programming                             1938\n",
      "artificial intelligence                 1527\n",
      "movies about artificial intelligence     162\n",
      "Biographies                               13\n",
      "Philosophy                                13\n",
      "Artificial intelligence                   10\n",
      "Programming                               10\n",
      "Movies about artificial intelligence       1\n",
      "Name: count, dtype: int64\n"
     ]
    }
   ],
   "source": [
    "# label count before handling mismatched values\n",
    "print(label.value_counts())"
   ]
  },
  {
   "cell_type": "code",
   "execution_count": 25,
   "id": "fc2f5240-8e51-4c3b-aeae-ba30f136f5a2",
   "metadata": {},
   "outputs": [],
   "source": [
    "label.loc[label.category=='Biographies','category'] = 'biographies'\n",
    "label.loc[label.category=='Philosophy','category'] = 'philosophy'\n",
    "label.loc[label.category=='Programming','category'] = 'programming'\n",
    "label.loc[label.category=='Artificial intelligence','category'] = 'artificial intelligence'\n",
    "label.loc[label.category=='Movies about artificial intelligence','category'] = 'movies about artificial intelligence'"
   ]
  },
  {
   "cell_type": "code",
   "execution_count": 26,
   "id": "c1c84f69-4c02-431d-b929-e9c49aad6ce8",
   "metadata": {},
   "outputs": [
    {
     "name": "stdout",
     "output_type": "stream",
     "text": [
      "category                            \n",
      "biographies                             2899\n",
      "philosophy                              2524\n",
      "programming                             1948\n",
      "artificial intelligence                 1537\n",
      "movies about artificial intelligence     163\n",
      "Name: count, dtype: int64\n"
     ]
    }
   ],
   "source": [
    "# Label count after handling mismatched values\n",
    "print(label.value_counts())"
   ]
  },
  {
   "cell_type": "markdown",
   "id": "bb2a09c5-b204-4777-b154-556ead4f5f8b",
   "metadata": {},
   "source": [
    "Here, the dataset is imbalanced. To ensure equal distribution of each class in the train and test data, a stratified split will be done"
   ]
  },
  {
   "cell_type": "code",
   "execution_count": 27,
   "id": "5d09011b-46b6-4153-bd88-0db6177e5883",
   "metadata": {},
   "outputs": [],
   "source": [
    "train_dataset, test_dataset, train_label, test_label = train_test_split(feature_dataset,label,\n",
    "                                                                        test_size=0.2,\n",
    "                                                                        stratify=label,\n",
    "                                                                        shuffle=True,\n",
    "                                                                        random_state=7)                                                                      "
   ]
  },
  {
   "cell_type": "code",
   "execution_count": 28,
   "id": "5c7b4d9c-a5d8-4eb6-a862-55984f7b96e0",
   "metadata": {},
   "outputs": [
    {
     "name": "stdout",
     "output_type": "stream",
     "text": [
      "The shape of training dataset is: \n",
      "(7256, 2)\n",
      "The shape of the label data is: \n",
      "(7256, 1)\n"
     ]
    }
   ],
   "source": [
    "# Shape of training feature data\n",
    "print(\"The shape of training dataset is: \")\n",
    "print(train_dataset.shape)\n",
    "# Shape of training label data\n",
    "print(\"The shape of the label data is: \")\n",
    "print(train_label.shape)"
   ]
  },
  {
   "cell_type": "code",
   "execution_count": 29,
   "id": "ee517022-a60f-4771-b9b4-0a0c072805c1",
   "metadata": {},
   "outputs": [
    {
     "name": "stdout",
     "output_type": "stream",
     "text": [
      "The shape of test dataset is: \n",
      "(1815, 2)\n",
      "The shape of the label data is: \n",
      "(1815, 1)\n"
     ]
    }
   ],
   "source": [
    "# Shape of test feature data\n",
    "print(\"The shape of test dataset is: \")\n",
    "print(test_dataset.shape)\n",
    "# Shape of test label data\n",
    "print(\"The shape of the label data is: \")\n",
    "print(test_label.shape)"
   ]
  },
  {
   "cell_type": "markdown",
   "id": "c3b1a0e2-7c46-4634-814b-f45509de22d7",
   "metadata": {},
   "source": [
    "Handling the class imbalance in the training data"
   ]
  },
  {
   "cell_type": "code",
   "execution_count": 30,
   "id": "6112e769-c306-45ab-9e10-35bf2b4c4f3a",
   "metadata": {},
   "outputs": [
    {
     "name": "stdout",
     "output_type": "stream",
     "text": [
      "category                            \n",
      "biographies                             2319\n",
      "philosophy                              2019\n",
      "programming                             1558\n",
      "artificial intelligence                 1230\n",
      "movies about artificial intelligence     130\n",
      "Name: count, dtype: int64\n"
     ]
    }
   ],
   "source": [
    "# Class distribution before handling class imbalance\n",
    "print(train_label.value_counts())"
   ]
  },
  {
   "cell_type": "code",
   "execution_count": 31,
   "id": "5881e0b4-7c10-4dd7-9aba-e855b885ba0e",
   "metadata": {},
   "outputs": [],
   "source": [
    "# Creating an instance of RandomOverSampler\n",
    "sampler = RandomOverSampler(random_state=42)\n",
    "train_dataset_resampled , train_label_resampled = sampler.fit_resample(train_dataset,train_label)"
   ]
  },
  {
   "cell_type": "code",
   "execution_count": 32,
   "id": "99160e3e-d15b-46fc-8522-b1dcffd1fa23",
   "metadata": {},
   "outputs": [
    {
     "name": "stdout",
     "output_type": "stream",
     "text": [
      "The shape of resampled training dataset is: (11595, 2)\n",
      "The shape of the resampled label data is: (11595, 1)\n"
     ]
    }
   ],
   "source": [
    "# Shape of the resampled training data \n",
    "# Shape of training feature data\n",
    "print(f\"The shape of resampled training dataset is: {train_dataset_resampled.shape}\")\n",
    "# Shape of training label data\n",
    "print(f\"The shape of the resampled label data is: {train_label_resampled.shape}\")"
   ]
  },
  {
   "cell_type": "code",
   "execution_count": 33,
   "id": "1426809c-e8da-4d82-8a3b-a484d394b9a0",
   "metadata": {},
   "outputs": [
    {
     "name": "stdout",
     "output_type": "stream",
     "text": [
      "category                            \n",
      "artificial intelligence                 2319\n",
      "biographies                             2319\n",
      "movies about artificial intelligence    2319\n",
      "philosophy                              2319\n",
      "programming                             2319\n",
      "Name: count, dtype: int64\n"
     ]
    }
   ],
   "source": [
    "# Class distribution after handling class imbalance\n",
    "print(train_label_resampled.value_counts())"
   ]
  },
  {
   "cell_type": "markdown",
   "id": "05301bb4-95d6-425e-9556-e3c56d04eaaf",
   "metadata": {},
   "source": [
    "Preprocessing of text data in the feature training dataset"
   ]
  },
  {
   "cell_type": "code",
   "execution_count": 34,
   "id": "3b803bdc-74a3-47ea-bd8a-7cdbcafe89ff",
   "metadata": {},
   "outputs": [],
   "source": [
    "# creating an nlp pipeline\n",
    "nlp = spacy.load('en_core_web_md')\n",
    "\n",
    "\n",
    "def clean_text(x):\n",
    "  \"\"\"function to clean the text data\"\"\"\n",
    "  return cleantext.clean(x,\n",
    "      clean_all= True,\n",
    "      extra_spaces= True,\n",
    "      stemming= True,\n",
    "      stopwords= True,\n",
    "      lowercase= True,\n",
    "      numbers= True,\n",
    "      punct= True,\n",
    "      reg = '',\n",
    "      reg_replace = '',\n",
    "      stp_lang = 'english'\n",
    ")\n",
    "\n",
    "def pre_processing_has_entity(text):\n",
    "    \"\"\"function to preprocess the has_entity column\"\"\"\n",
    "    entities = text.split(\"_\")\n",
    "    preprocessed_data = {}\n",
    "    for i in range(0,len(entities)-1,2):\n",
    "        entity = entities[i]\n",
    "        result = entities[i+1]\n",
    "        preprocessed_data[f\"{entity}\"] = result\n",
    "    return preprocessed_data"
   ]
  },
  {
   "cell_type": "markdown",
   "id": "5bf96cb9-83b6-4329-9f4e-d14106836708",
   "metadata": {},
   "source": [
    "Training Data:"
   ]
  },
  {
   "cell_type": "code",
   "execution_count": 35,
   "id": "3e749597-7744-4d7f-a46a-697732aa2976",
   "metadata": {},
   "outputs": [],
   "source": [
    "# Cleaning the paragraph column\n",
    "train_dataset_resampled['cleaned_paragraph'] = train_dataset_resampled['paragraph'].apply(clean_text)\n",
    "# Preprocessing the has_entity column\n",
    "preprocessed_has_entity_field_train_dataset = train_dataset_resampled['has_entity'].apply(pre_processing_has_entity)\n",
    "# Converting to a dataframe\n",
    "preprocessed_has_entity_field_train_dataset = pd.DataFrame(preprocessed_has_entity_field_train_dataset.tolist(),index=train_dataset_resampled.index)\n",
    "# Concatenating the two data frames\n",
    "train_dataset_resampled = pd.concat([train_dataset_resampled,preprocessed_has_entity_field_train_dataset],axis=1)"
   ]
  },
  {
   "cell_type": "code",
   "execution_count": 36,
   "id": "88c08e40-58e7-4bdf-b546-b5120c60adb7",
   "metadata": {},
   "outputs": [
    {
     "data": {
      "text/html": [
       "<div>\n",
       "<style scoped>\n",
       "    .dataframe tbody tr th:only-of-type {\n",
       "        vertical-align: middle;\n",
       "    }\n",
       "\n",
       "    .dataframe tbody tr th {\n",
       "        vertical-align: top;\n",
       "    }\n",
       "\n",
       "    .dataframe thead th {\n",
       "        text-align: right;\n",
       "    }\n",
       "</style>\n",
       "<table border=\"1\" class=\"dataframe\">\n",
       "  <thead>\n",
       "    <tr style=\"text-align: right;\">\n",
       "      <th></th>\n",
       "      <th>paragraph</th>\n",
       "      <th>has_entity</th>\n",
       "      <th>cleaned_paragraph</th>\n",
       "      <th>ORG</th>\n",
       "      <th>PRODUCT</th>\n",
       "      <th>PERSON</th>\n",
       "    </tr>\n",
       "  </thead>\n",
       "  <tbody>\n",
       "    <tr>\n",
       "      <th>0</th>\n",
       "      <td>John Hick used the term \"soul-making\" in his t...</td>\n",
       "      <td>ORG_YES_PRODUCT_NO_PERSON_YES_</td>\n",
       "      <td>john hick use term soulmak theodici evil god l...</td>\n",
       "      <td>YES</td>\n",
       "      <td>NO</td>\n",
       "      <td>YES</td>\n",
       "    </tr>\n",
       "    <tr>\n",
       "      <th>1</th>\n",
       "      <td>The field of experimental aesthetics was found...</td>\n",
       "      <td>ORG_YES_PRODUCT_NO_PERSON_NO_</td>\n",
       "      <td>field experiment aesthet found gustav theodor ...</td>\n",
       "      <td>YES</td>\n",
       "      <td>NO</td>\n",
       "      <td>NO</td>\n",
       "    </tr>\n",
       "    <tr>\n",
       "      <th>2</th>\n",
       "      <td>Buddhists, Jains, Advaita Vedantins and Nyaya ...</td>\n",
       "      <td>ORG_YES_PRODUCT_NO_PERSON_YES_</td>\n",
       "      <td>buddhist jain advaita vedantin nyaya philosoph...</td>\n",
       "      <td>YES</td>\n",
       "      <td>NO</td>\n",
       "      <td>YES</td>\n",
       "    </tr>\n",
       "    <tr>\n",
       "      <th>3</th>\n",
       "      <td>Wallis Simpson and the Prince of Wales, it is...</td>\n",
       "      <td>ORG_YES_PRODUCT_NO_PERSON_YES_</td>\n",
       "      <td>walli simpson princ wale gener accept becam lo...</td>\n",
       "      <td>YES</td>\n",
       "      <td>NO</td>\n",
       "      <td>YES</td>\n",
       "    </tr>\n",
       "    <tr>\n",
       "      <th>4</th>\n",
       "      <td>An AutoIt automation script can be converted i...</td>\n",
       "      <td>ORG_YES_PRODUCT_NO_PERSON_NO_</td>\n",
       "      <td>autoit autom script convert compress standalon...</td>\n",
       "      <td>YES</td>\n",
       "      <td>NO</td>\n",
       "      <td>NO</td>\n",
       "    </tr>\n",
       "  </tbody>\n",
       "</table>\n",
       "</div>"
      ],
      "text/plain": [
       "                                           paragraph  \\\n",
       "0  John Hick used the term \"soul-making\" in his t...   \n",
       "1  The field of experimental aesthetics was found...   \n",
       "2  Buddhists, Jains, Advaita Vedantins and Nyaya ...   \n",
       "3   Wallis Simpson and the Prince of Wales, it is...   \n",
       "4  An AutoIt automation script can be converted i...   \n",
       "\n",
       "                       has_entity  \\\n",
       "0  ORG_YES_PRODUCT_NO_PERSON_YES_   \n",
       "1   ORG_YES_PRODUCT_NO_PERSON_NO_   \n",
       "2  ORG_YES_PRODUCT_NO_PERSON_YES_   \n",
       "3  ORG_YES_PRODUCT_NO_PERSON_YES_   \n",
       "4   ORG_YES_PRODUCT_NO_PERSON_NO_   \n",
       "\n",
       "                                   cleaned_paragraph  ORG PRODUCT PERSON  \n",
       "0  john hick use term soulmak theodici evil god l...  YES      NO    YES  \n",
       "1  field experiment aesthet found gustav theodor ...  YES      NO     NO  \n",
       "2  buddhist jain advaita vedantin nyaya philosoph...  YES      NO    YES  \n",
       "3  walli simpson princ wale gener accept becam lo...  YES      NO    YES  \n",
       "4  autoit autom script convert compress standalon...  YES      NO     NO  "
      ]
     },
     "execution_count": 36,
     "metadata": {},
     "output_type": "execute_result"
    }
   ],
   "source": [
    "# Displaying the first 5 records\n",
    "train_dataset_resampled.head()"
   ]
  },
  {
   "cell_type": "markdown",
   "id": "a86e190a-3512-4a73-af20-f9c5d0248c00",
   "metadata": {},
   "source": [
    "Test Data"
   ]
  },
  {
   "cell_type": "code",
   "execution_count": 37,
   "id": "1b38338e-a290-4892-82fe-d02d7a1660ed",
   "metadata": {},
   "outputs": [],
   "source": [
    "# Cleaning the paragraph column of test dataset\n",
    "test_dataset['cleaned_paragraph'] = test_dataset['paragraph'].apply(clean_text)\n",
    "# Preprocessing the has_entity column\n",
    "preprocessed_has_entity_field_test = test_dataset['has_entity'].apply(pre_processing_has_entity)\n",
    "# Converting to a dataframe\n",
    "preprocessed_has_entity_field_test = pd.DataFrame(preprocessed_has_entity_field_test.tolist(),index=test_dataset.index)\n",
    "#concatenating the two data frames\n",
    "test_dataset = pd.concat([test_dataset,preprocessed_has_entity_field_test],axis=1)"
   ]
  },
  {
   "cell_type": "code",
   "execution_count": null,
   "id": "aaca113e-f784-4174-afe7-0299faadc920",
   "metadata": {},
   "outputs": [],
   "source": []
  },
  {
   "cell_type": "markdown",
   "id": "76e89494-b3f2-4c20-8ff8-2f15538f0206",
   "metadata": {},
   "source": [
    "##### Preprocessing using Word Embedding"
   ]
  },
  {
   "cell_type": "code",
   "execution_count": 38,
   "id": "21ab1876-4de5-4e4b-98df-199362a7d077",
   "metadata": {},
   "outputs": [],
   "source": [
    "def get_spacy_doc_embedding(text_):\n",
    "  ''' Function to generate Spacy document embedding. '''\n",
    "  doc_ = nlp(text_)\n",
    "  return doc_.vector"
   ]
  },
  {
   "cell_type": "markdown",
   "id": "13cbc1ca-5247-4a9b-8b20-67d5330a7d66",
   "metadata": {},
   "source": [
    "Training Data"
   ]
  },
  {
   "cell_type": "code",
   "execution_count": 39,
   "id": "4819bb62-9a0d-4338-8c80-08c311cecc35",
   "metadata": {},
   "outputs": [],
   "source": [
    "# Generate word embedding of the cleaned paragraph\n",
    "train_dataset_embedding = train_dataset_resampled['cleaned_paragraph'].apply(lambda x: pd.Series(get_spacy_doc_embedding(x)))\n",
    "new_train_dataset = train_dataset_embedding.join(train_dataset_resampled[['ORG','PRODUCT','PERSON']])\n",
    "new_train_dataset.columns = new_train_dataset.columns.astype(str)"
   ]
  },
  {
   "cell_type": "code",
   "execution_count": 40,
   "id": "12f45959-7bd2-4772-9475-9d592219900c",
   "metadata": {},
   "outputs": [
    {
     "data": {
      "text/html": [
       "<div>\n",
       "<style scoped>\n",
       "    .dataframe tbody tr th:only-of-type {\n",
       "        vertical-align: middle;\n",
       "    }\n",
       "\n",
       "    .dataframe tbody tr th {\n",
       "        vertical-align: top;\n",
       "    }\n",
       "\n",
       "    .dataframe thead th {\n",
       "        text-align: right;\n",
       "    }\n",
       "</style>\n",
       "<table border=\"1\" class=\"dataframe\">\n",
       "  <thead>\n",
       "    <tr style=\"text-align: right;\">\n",
       "      <th></th>\n",
       "      <th>0</th>\n",
       "      <th>1</th>\n",
       "      <th>2</th>\n",
       "      <th>3</th>\n",
       "      <th>4</th>\n",
       "      <th>5</th>\n",
       "      <th>6</th>\n",
       "      <th>7</th>\n",
       "      <th>8</th>\n",
       "      <th>9</th>\n",
       "      <th>...</th>\n",
       "      <th>293</th>\n",
       "      <th>294</th>\n",
       "      <th>295</th>\n",
       "      <th>296</th>\n",
       "      <th>297</th>\n",
       "      <th>298</th>\n",
       "      <th>299</th>\n",
       "      <th>ORG</th>\n",
       "      <th>PRODUCT</th>\n",
       "      <th>PERSON</th>\n",
       "    </tr>\n",
       "  </thead>\n",
       "  <tbody>\n",
       "    <tr>\n",
       "      <th>0</th>\n",
       "      <td>0.009769</td>\n",
       "      <td>1.001216</td>\n",
       "      <td>-1.602466</td>\n",
       "      <td>-0.888339</td>\n",
       "      <td>0.731310</td>\n",
       "      <td>1.117068</td>\n",
       "      <td>0.569071</td>\n",
       "      <td>1.784467</td>\n",
       "      <td>-1.948487</td>\n",
       "      <td>-0.375826</td>\n",
       "      <td>...</td>\n",
       "      <td>-1.008738</td>\n",
       "      <td>-0.137404</td>\n",
       "      <td>-0.965697</td>\n",
       "      <td>0.388342</td>\n",
       "      <td>0.319274</td>\n",
       "      <td>-1.836233</td>\n",
       "      <td>1.271920</td>\n",
       "      <td>YES</td>\n",
       "      <td>NO</td>\n",
       "      <td>YES</td>\n",
       "    </tr>\n",
       "    <tr>\n",
       "      <th>1</th>\n",
       "      <td>-0.933862</td>\n",
       "      <td>0.475163</td>\n",
       "      <td>-0.515476</td>\n",
       "      <td>-0.540487</td>\n",
       "      <td>2.070295</td>\n",
       "      <td>-0.135704</td>\n",
       "      <td>1.334800</td>\n",
       "      <td>2.385074</td>\n",
       "      <td>-2.197414</td>\n",
       "      <td>-0.174947</td>\n",
       "      <td>...</td>\n",
       "      <td>-0.167557</td>\n",
       "      <td>-0.917837</td>\n",
       "      <td>-0.105178</td>\n",
       "      <td>0.679002</td>\n",
       "      <td>-0.887727</td>\n",
       "      <td>-2.237136</td>\n",
       "      <td>1.071754</td>\n",
       "      <td>YES</td>\n",
       "      <td>NO</td>\n",
       "      <td>NO</td>\n",
       "    </tr>\n",
       "    <tr>\n",
       "      <th>2</th>\n",
       "      <td>-0.414723</td>\n",
       "      <td>0.704564</td>\n",
       "      <td>-0.577845</td>\n",
       "      <td>0.192847</td>\n",
       "      <td>1.679376</td>\n",
       "      <td>0.451631</td>\n",
       "      <td>0.852218</td>\n",
       "      <td>1.429127</td>\n",
       "      <td>-1.715945</td>\n",
       "      <td>-0.479872</td>\n",
       "      <td>...</td>\n",
       "      <td>-0.742006</td>\n",
       "      <td>-0.641259</td>\n",
       "      <td>0.195558</td>\n",
       "      <td>0.304626</td>\n",
       "      <td>-0.693979</td>\n",
       "      <td>-1.390856</td>\n",
       "      <td>0.642802</td>\n",
       "      <td>YES</td>\n",
       "      <td>NO</td>\n",
       "      <td>YES</td>\n",
       "    </tr>\n",
       "    <tr>\n",
       "      <th>3</th>\n",
       "      <td>-0.752852</td>\n",
       "      <td>-0.062103</td>\n",
       "      <td>-0.892937</td>\n",
       "      <td>-0.795269</td>\n",
       "      <td>2.391357</td>\n",
       "      <td>-0.169364</td>\n",
       "      <td>0.991275</td>\n",
       "      <td>2.113762</td>\n",
       "      <td>-0.086305</td>\n",
       "      <td>-0.111759</td>\n",
       "      <td>...</td>\n",
       "      <td>0.080874</td>\n",
       "      <td>-1.019061</td>\n",
       "      <td>-0.234316</td>\n",
       "      <td>0.109499</td>\n",
       "      <td>-0.065493</td>\n",
       "      <td>-1.609763</td>\n",
       "      <td>0.636694</td>\n",
       "      <td>YES</td>\n",
       "      <td>NO</td>\n",
       "      <td>YES</td>\n",
       "    </tr>\n",
       "    <tr>\n",
       "      <th>4</th>\n",
       "      <td>-0.686241</td>\n",
       "      <td>-0.230093</td>\n",
       "      <td>-0.462214</td>\n",
       "      <td>0.966549</td>\n",
       "      <td>1.602601</td>\n",
       "      <td>-0.546677</td>\n",
       "      <td>0.433740</td>\n",
       "      <td>1.977868</td>\n",
       "      <td>-2.765212</td>\n",
       "      <td>-0.293273</td>\n",
       "      <td>...</td>\n",
       "      <td>0.018563</td>\n",
       "      <td>0.014968</td>\n",
       "      <td>0.342582</td>\n",
       "      <td>-0.107404</td>\n",
       "      <td>-1.339182</td>\n",
       "      <td>-0.994062</td>\n",
       "      <td>-0.069601</td>\n",
       "      <td>YES</td>\n",
       "      <td>NO</td>\n",
       "      <td>NO</td>\n",
       "    </tr>\n",
       "  </tbody>\n",
       "</table>\n",
       "<p>5 rows × 303 columns</p>\n",
       "</div>"
      ],
      "text/plain": [
       "          0         1         2         3         4         5         6  \\\n",
       "0  0.009769  1.001216 -1.602466 -0.888339  0.731310  1.117068  0.569071   \n",
       "1 -0.933862  0.475163 -0.515476 -0.540487  2.070295 -0.135704  1.334800   \n",
       "2 -0.414723  0.704564 -0.577845  0.192847  1.679376  0.451631  0.852218   \n",
       "3 -0.752852 -0.062103 -0.892937 -0.795269  2.391357 -0.169364  0.991275   \n",
       "4 -0.686241 -0.230093 -0.462214  0.966549  1.602601 -0.546677  0.433740   \n",
       "\n",
       "          7         8         9  ...       293       294       295       296  \\\n",
       "0  1.784467 -1.948487 -0.375826  ... -1.008738 -0.137404 -0.965697  0.388342   \n",
       "1  2.385074 -2.197414 -0.174947  ... -0.167557 -0.917837 -0.105178  0.679002   \n",
       "2  1.429127 -1.715945 -0.479872  ... -0.742006 -0.641259  0.195558  0.304626   \n",
       "3  2.113762 -0.086305 -0.111759  ...  0.080874 -1.019061 -0.234316  0.109499   \n",
       "4  1.977868 -2.765212 -0.293273  ...  0.018563  0.014968  0.342582 -0.107404   \n",
       "\n",
       "        297       298       299  ORG  PRODUCT  PERSON  \n",
       "0  0.319274 -1.836233  1.271920  YES       NO     YES  \n",
       "1 -0.887727 -2.237136  1.071754  YES       NO      NO  \n",
       "2 -0.693979 -1.390856  0.642802  YES       NO     YES  \n",
       "3 -0.065493 -1.609763  0.636694  YES       NO     YES  \n",
       "4 -1.339182 -0.994062 -0.069601  YES       NO      NO  \n",
       "\n",
       "[5 rows x 303 columns]"
      ]
     },
     "execution_count": 40,
     "metadata": {},
     "output_type": "execute_result"
    }
   ],
   "source": [
    "# Displaying the first 5 records\n",
    "new_train_dataset.head()"
   ]
  },
  {
   "cell_type": "code",
   "execution_count": 41,
   "id": "bc45466b-955e-4a9f-88ad-73b1d8907fda",
   "metadata": {},
   "outputs": [
    {
     "data": {
      "text/html": [
       "<div>\n",
       "<style scoped>\n",
       "    .dataframe tbody tr th:only-of-type {\n",
       "        vertical-align: middle;\n",
       "    }\n",
       "\n",
       "    .dataframe tbody tr th {\n",
       "        vertical-align: top;\n",
       "    }\n",
       "\n",
       "    .dataframe thead th {\n",
       "        text-align: right;\n",
       "    }\n",
       "</style>\n",
       "<table border=\"1\" class=\"dataframe\">\n",
       "  <thead>\n",
       "    <tr style=\"text-align: right;\">\n",
       "      <th></th>\n",
       "      <th>category</th>\n",
       "    </tr>\n",
       "  </thead>\n",
       "  <tbody>\n",
       "    <tr>\n",
       "      <th>0</th>\n",
       "      <td>philosophy</td>\n",
       "    </tr>\n",
       "    <tr>\n",
       "      <th>1</th>\n",
       "      <td>philosophy</td>\n",
       "    </tr>\n",
       "    <tr>\n",
       "      <th>2</th>\n",
       "      <td>philosophy</td>\n",
       "    </tr>\n",
       "    <tr>\n",
       "      <th>3</th>\n",
       "      <td>biographies</td>\n",
       "    </tr>\n",
       "    <tr>\n",
       "      <th>4</th>\n",
       "      <td>programming</td>\n",
       "    </tr>\n",
       "    <tr>\n",
       "      <th>...</th>\n",
       "      <td>...</td>\n",
       "    </tr>\n",
       "    <tr>\n",
       "      <th>11590</th>\n",
       "      <td>programming</td>\n",
       "    </tr>\n",
       "    <tr>\n",
       "      <th>11591</th>\n",
       "      <td>programming</td>\n",
       "    </tr>\n",
       "    <tr>\n",
       "      <th>11592</th>\n",
       "      <td>programming</td>\n",
       "    </tr>\n",
       "    <tr>\n",
       "      <th>11593</th>\n",
       "      <td>programming</td>\n",
       "    </tr>\n",
       "    <tr>\n",
       "      <th>11594</th>\n",
       "      <td>programming</td>\n",
       "    </tr>\n",
       "  </tbody>\n",
       "</table>\n",
       "<p>11595 rows × 1 columns</p>\n",
       "</div>"
      ],
      "text/plain": [
       "          category\n",
       "0       philosophy\n",
       "1       philosophy\n",
       "2       philosophy\n",
       "3      biographies\n",
       "4      programming\n",
       "...            ...\n",
       "11590  programming\n",
       "11591  programming\n",
       "11592  programming\n",
       "11593  programming\n",
       "11594  programming\n",
       "\n",
       "[11595 rows x 1 columns]"
      ]
     },
     "execution_count": 41,
     "metadata": {},
     "output_type": "execute_result"
    }
   ],
   "source": [
    "train_label_resampled"
   ]
  },
  {
   "cell_type": "markdown",
   "id": "e96fecea-5edc-4fa3-b1fa-1f24dedd7dd0",
   "metadata": {},
   "source": [
    "Encoding the Label Values"
   ]
  },
  {
   "cell_type": "code",
   "execution_count": 42,
   "id": "b86ff1ef-9f5a-45db-a4ad-21e1822d5043",
   "metadata": {},
   "outputs": [
    {
     "name": "stdout",
     "output_type": "stream",
     "text": [
      "category                              encoded_category\n",
      "artificial intelligence               0                   2319\n",
      "biographies                           1                   2319\n",
      "movies about artificial intelligence  2                   2319\n",
      "philosophy                            3                   2319\n",
      "programming                           4                   2319\n",
      "Name: count, dtype: int64\n"
     ]
    }
   ],
   "source": [
    "# Creating an instance of LabelEncoder class\n",
    "label_encoder_train = LabelEncoder()\n",
    "# apply LabelEncoder object to our target variables\n",
    "train_label_resampled['encoded_category'] = label_encoder_train.fit_transform(train_label_resampled['category'])\n",
    "print(train_label_resampled.value_counts())"
   ]
  },
  {
   "cell_type": "markdown",
   "id": "d946988c-323d-4a29-9356-85cd5400bc5f",
   "metadata": {},
   "source": [
    "Test Data"
   ]
  },
  {
   "cell_type": "code",
   "execution_count": 43,
   "id": "a3175b42-9b3b-42fa-98e8-f3b2f6653d74",
   "metadata": {},
   "outputs": [],
   "source": [
    "# Generate word embedding of the cleaned paragraph\n",
    "test_dataset_emb = test_dataset['cleaned_paragraph'].apply(lambda x: pd.Series(get_spacy_doc_embedding(x)))\n",
    "new_test_dataset = test_dataset_emb.join(test_dataset[['ORG','PRODUCT','PERSON']])\n",
    "new_test_dataset.columns = new_test_dataset.columns.astype(str)"
   ]
  },
  {
   "cell_type": "code",
   "execution_count": 44,
   "id": "b3e67238-268a-4281-bc03-9dfd79089866",
   "metadata": {},
   "outputs": [
    {
     "data": {
      "text/html": [
       "<div>\n",
       "<style scoped>\n",
       "    .dataframe tbody tr th:only-of-type {\n",
       "        vertical-align: middle;\n",
       "    }\n",
       "\n",
       "    .dataframe tbody tr th {\n",
       "        vertical-align: top;\n",
       "    }\n",
       "\n",
       "    .dataframe thead th {\n",
       "        text-align: right;\n",
       "    }\n",
       "</style>\n",
       "<table border=\"1\" class=\"dataframe\">\n",
       "  <thead>\n",
       "    <tr style=\"text-align: right;\">\n",
       "      <th></th>\n",
       "      <th>0</th>\n",
       "      <th>1</th>\n",
       "      <th>2</th>\n",
       "      <th>3</th>\n",
       "      <th>4</th>\n",
       "      <th>5</th>\n",
       "      <th>6</th>\n",
       "      <th>7</th>\n",
       "      <th>8</th>\n",
       "      <th>9</th>\n",
       "      <th>...</th>\n",
       "      <th>293</th>\n",
       "      <th>294</th>\n",
       "      <th>295</th>\n",
       "      <th>296</th>\n",
       "      <th>297</th>\n",
       "      <th>298</th>\n",
       "      <th>299</th>\n",
       "      <th>ORG</th>\n",
       "      <th>PRODUCT</th>\n",
       "      <th>PERSON</th>\n",
       "    </tr>\n",
       "  </thead>\n",
       "  <tbody>\n",
       "    <tr>\n",
       "      <th>2443</th>\n",
       "      <td>-0.440016</td>\n",
       "      <td>0.797404</td>\n",
       "      <td>0.000567</td>\n",
       "      <td>-0.154423</td>\n",
       "      <td>0.574914</td>\n",
       "      <td>0.444597</td>\n",
       "      <td>-0.022638</td>\n",
       "      <td>1.165029</td>\n",
       "      <td>-1.390278</td>\n",
       "      <td>-0.264556</td>\n",
       "      <td>...</td>\n",
       "      <td>0.931382</td>\n",
       "      <td>0.307954</td>\n",
       "      <td>0.062838</td>\n",
       "      <td>-0.010124</td>\n",
       "      <td>-0.865599</td>\n",
       "      <td>-0.776534</td>\n",
       "      <td>0.738524</td>\n",
       "      <td>YES</td>\n",
       "      <td>NO</td>\n",
       "      <td>NO</td>\n",
       "    </tr>\n",
       "    <tr>\n",
       "      <th>5136</th>\n",
       "      <td>-0.783944</td>\n",
       "      <td>-0.075364</td>\n",
       "      <td>-1.201752</td>\n",
       "      <td>-0.489873</td>\n",
       "      <td>1.512461</td>\n",
       "      <td>-0.068065</td>\n",
       "      <td>1.251508</td>\n",
       "      <td>2.319936</td>\n",
       "      <td>-1.993388</td>\n",
       "      <td>-0.181042</td>\n",
       "      <td>...</td>\n",
       "      <td>-0.163901</td>\n",
       "      <td>-0.928999</td>\n",
       "      <td>-0.417663</td>\n",
       "      <td>0.496509</td>\n",
       "      <td>-0.897884</td>\n",
       "      <td>-1.699379</td>\n",
       "      <td>-0.007377</td>\n",
       "      <td>YES</td>\n",
       "      <td>NO</td>\n",
       "      <td>NO</td>\n",
       "    </tr>\n",
       "    <tr>\n",
       "      <th>3021</th>\n",
       "      <td>0.095344</td>\n",
       "      <td>-0.129305</td>\n",
       "      <td>-1.930642</td>\n",
       "      <td>0.159523</td>\n",
       "      <td>0.744735</td>\n",
       "      <td>-1.688084</td>\n",
       "      <td>1.587933</td>\n",
       "      <td>1.988103</td>\n",
       "      <td>-0.682364</td>\n",
       "      <td>1.731649</td>\n",
       "      <td>...</td>\n",
       "      <td>-0.276139</td>\n",
       "      <td>-0.708870</td>\n",
       "      <td>0.170996</td>\n",
       "      <td>0.017254</td>\n",
       "      <td>0.852851</td>\n",
       "      <td>-0.026724</td>\n",
       "      <td>-0.620862</td>\n",
       "      <td>YES</td>\n",
       "      <td>NO</td>\n",
       "      <td>YES</td>\n",
       "    </tr>\n",
       "    <tr>\n",
       "      <th>5950</th>\n",
       "      <td>-1.289461</td>\n",
       "      <td>0.018915</td>\n",
       "      <td>-0.122947</td>\n",
       "      <td>-1.340068</td>\n",
       "      <td>0.780229</td>\n",
       "      <td>-0.340170</td>\n",
       "      <td>0.944304</td>\n",
       "      <td>0.954256</td>\n",
       "      <td>-0.838138</td>\n",
       "      <td>0.297490</td>\n",
       "      <td>...</td>\n",
       "      <td>-0.094743</td>\n",
       "      <td>-0.786113</td>\n",
       "      <td>0.131933</td>\n",
       "      <td>0.948843</td>\n",
       "      <td>-0.589950</td>\n",
       "      <td>-1.645759</td>\n",
       "      <td>0.876987</td>\n",
       "      <td>NO</td>\n",
       "      <td>NO</td>\n",
       "      <td>YES</td>\n",
       "    </tr>\n",
       "    <tr>\n",
       "      <th>7530</th>\n",
       "      <td>0.036264</td>\n",
       "      <td>0.782082</td>\n",
       "      <td>-2.336931</td>\n",
       "      <td>0.166007</td>\n",
       "      <td>2.197212</td>\n",
       "      <td>1.080420</td>\n",
       "      <td>0.588951</td>\n",
       "      <td>2.120431</td>\n",
       "      <td>-1.110262</td>\n",
       "      <td>-1.194872</td>\n",
       "      <td>...</td>\n",
       "      <td>-0.738627</td>\n",
       "      <td>-0.633299</td>\n",
       "      <td>0.055722</td>\n",
       "      <td>-0.432625</td>\n",
       "      <td>-0.335292</td>\n",
       "      <td>-1.972489</td>\n",
       "      <td>0.872676</td>\n",
       "      <td>NO</td>\n",
       "      <td>NO</td>\n",
       "      <td>NO</td>\n",
       "    </tr>\n",
       "  </tbody>\n",
       "</table>\n",
       "<p>5 rows × 303 columns</p>\n",
       "</div>"
      ],
      "text/plain": [
       "             0         1         2         3         4         5         6  \\\n",
       "2443 -0.440016  0.797404  0.000567 -0.154423  0.574914  0.444597 -0.022638   \n",
       "5136 -0.783944 -0.075364 -1.201752 -0.489873  1.512461 -0.068065  1.251508   \n",
       "3021  0.095344 -0.129305 -1.930642  0.159523  0.744735 -1.688084  1.587933   \n",
       "5950 -1.289461  0.018915 -0.122947 -1.340068  0.780229 -0.340170  0.944304   \n",
       "7530  0.036264  0.782082 -2.336931  0.166007  2.197212  1.080420  0.588951   \n",
       "\n",
       "             7         8         9  ...       293       294       295  \\\n",
       "2443  1.165029 -1.390278 -0.264556  ...  0.931382  0.307954  0.062838   \n",
       "5136  2.319936 -1.993388 -0.181042  ... -0.163901 -0.928999 -0.417663   \n",
       "3021  1.988103 -0.682364  1.731649  ... -0.276139 -0.708870  0.170996   \n",
       "5950  0.954256 -0.838138  0.297490  ... -0.094743 -0.786113  0.131933   \n",
       "7530  2.120431 -1.110262 -1.194872  ... -0.738627 -0.633299  0.055722   \n",
       "\n",
       "           296       297       298       299  ORG  PRODUCT  PERSON  \n",
       "2443 -0.010124 -0.865599 -0.776534  0.738524  YES       NO      NO  \n",
       "5136  0.496509 -0.897884 -1.699379 -0.007377  YES       NO      NO  \n",
       "3021  0.017254  0.852851 -0.026724 -0.620862  YES       NO     YES  \n",
       "5950  0.948843 -0.589950 -1.645759  0.876987   NO       NO     YES  \n",
       "7530 -0.432625 -0.335292 -1.972489  0.872676   NO       NO      NO  \n",
       "\n",
       "[5 rows x 303 columns]"
      ]
     },
     "execution_count": 44,
     "metadata": {},
     "output_type": "execute_result"
    }
   ],
   "source": [
    "# Displaying the first 5 records\n",
    "new_test_dataset.head()"
   ]
  },
  {
   "cell_type": "code",
   "execution_count": 45,
   "id": "75831cab-9380-4d45-a54e-d6f6f5475fbe",
   "metadata": {},
   "outputs": [
    {
     "name": "stdout",
     "output_type": "stream",
     "text": [
      "category                              encoded_category\n",
      "biographies                           1                   580\n",
      "philosophy                            3                   505\n",
      "programming                           4                   390\n",
      "artificial intelligence               0                   307\n",
      "movies about artificial intelligence  2                    33\n",
      "Name: count, dtype: int64\n"
     ]
    }
   ],
   "source": [
    "# Encoding target variable of test data\n",
    "# apply LabelEncoder object to target variable\n",
    "test_label['encoded_category'] = label_encoder_train.fit_transform(test_label['category'])\n",
    "print(test_label.value_counts())"
   ]
  },
  {
   "cell_type": "code",
   "execution_count": 46,
   "id": "73ae954e-e460-4571-bf59-450e0e09c464",
   "metadata": {},
   "outputs": [],
   "source": [
    "# creating the transformer\n",
    "preprocessor = ColumnTransformer(\n",
    "    transformers=[\n",
    "        ('feature encoding', OneHotEncoder(), ['ORG','PRODUCT','PERSON']),\n",
    "        ('scaling', StandardScaler(), [str(i) for i in range(300)])\n",
    "    ],\n",
    "    remainder='passthrough',\n",
    "    verbose_feature_names_out=False\n",
    ")"
   ]
  },
  {
   "cell_type": "markdown",
   "id": "20dc5fae-aaf4-4093-bf59-2e90ee596569",
   "metadata": {},
   "source": [
    "##### Model building and Evaluation"
   ]
  },
  {
   "cell_type": "markdown",
   "id": "f1df4f42-2173-4837-bf1d-43245ca0130d",
   "metadata": {},
   "source": [
    "###### 1. Logistic Regression\n",
    "Model Building"
   ]
  },
  {
   "cell_type": "code",
   "execution_count": 50,
   "id": "5c041b2c-9eb8-447c-83fe-892e5cfc9c23",
   "metadata": {},
   "outputs": [],
   "source": [
    "# defining the Logistic Regression pipeline\n",
    "clf_lr_ = Pipeline(\n",
    "        steps =[('encoding', preprocessor),\n",
    "              ('clf_lr', LogisticRegression()),\n",
    "      ]\n",
    "    )\n",
    "\n",
    "#defining the hyperparameters\n",
    "hyperparameters_lr = {\n",
    "    'clf_lr__penalty': ['l2','None'],\n",
    "    'clf_lr__solver': ['newton-cg', 'sag', 'saga', 'lbfgs' ],\n",
    "    'clf_lr__C': [0.01, 0.1,0.5,1],\n",
    "    'clf_lr__multi_class': ['auto', 'ovr', 'multinomial'],\n",
    "}\n",
    "\n",
    "\n",
    "# create the GridSearch function\n",
    "clf_search = GridSearchCV(clf_lr_, hyperparameters_lr, scoring= \"accuracy\", cv= 5, return_train_score=True) #we can use accuracy here since the dataset is balanced\n",
    "# Fit all the possible hyper-parameters combinations using cross-validation.\n",
    "_ =clf_search.fit(new_train_dataset, train_label_resampled['encoded_category'])"
   ]
  },
  {
   "cell_type": "code",
   "execution_count": 51,
   "id": "b5ccafb2-1f59-47e6-bcd5-b77a489cd10e",
   "metadata": {},
   "outputs": [
    {
     "name": "stdout",
     "output_type": "stream",
     "text": [
      "0.8864165588615783 {'clf_lr__C': 0.1, 'clf_lr__multi_class': 'auto', 'clf_lr__penalty': 'l2', 'clf_lr__solver': 'lbfgs'}\n"
     ]
    }
   ],
   "source": [
    "print(clf_search.best_score_, clf_search.best_params_)"
   ]
  },
  {
   "cell_type": "markdown",
   "id": "2fce29b0-5892-498f-833d-bfb8a061eca6",
   "metadata": {},
   "source": [
    "Model Evaluation"
   ]
  },
  {
   "cell_type": "code",
   "execution_count": 54,
   "id": "123b5fb4-fffe-4633-9cce-1bd568164eb7",
   "metadata": {},
   "outputs": [
    {
     "name": "stdout",
     "output_type": "stream",
     "text": [
      "              precision    recall  f1-score   support\n",
      "\n",
      "           0       0.73      0.78      0.75       307\n",
      "           1       0.89      0.87      0.88       580\n",
      "           2       0.59      0.79      0.68        33\n",
      "           3       0.85      0.84      0.84       505\n",
      "           4       0.92      0.89      0.90       390\n",
      "\n",
      "    accuracy                           0.85      1815\n",
      "   macro avg       0.79      0.83      0.81      1815\n",
      "weighted avg       0.85      0.85      0.85      1815\n",
      "\n"
     ]
    },
    {
     "data": {
      "image/png": "[encoded data removed]",
      "text/plain": [
       "<Figure size 640x480 with 2 Axes>"
      ]
     },
     "metadata": {},
     "output_type": "display_data"
    }
   ],
   "source": [
    "best_clf = clf_search.best_estimator_\n",
    "label_pred = best_clf.predict(new_test_dataset)\n",
    "print(classification_report(test_label['encoded_category'], label_pred))\n",
    "cm= ConfusionMatrixDisplay.from_estimator(best_clf, new_test_dataset, test_label['encoded_category'])"
   ]
  },
  {
   "cell_type": "markdown",
   "id": "07fb4f94-6752-432e-ad72-02662c3d98da",
   "metadata": {},
   "source": [
    "###### 2. RandomForest\n",
    "\n",
    "Model Building"
   ]
  },
  {
   "cell_type": "code",
   "execution_count": 47,
   "id": "5756c3ce-1737-41c9-aabd-9635b22ba181",
   "metadata": {},
   "outputs": [],
   "source": [
    "# defining the randomforest pipeline\n",
    "clf_rf_ = Pipeline(\n",
    "        steps =[('encoding', preprocessor),\n",
    "              ('clf_rf', RandomForestClassifier()),\n",
    "      ]\n",
    "    )\n",
    "\n",
    "#defining the hyperparameters\n",
    "hyperparameters_rf = {\n",
    "    'clf_rf__n_estimators': [100,200,300],\n",
    "    'clf_rf__criterion': ['gini','entropy','log_loss'],\n",
    "    'clf_rf__max_features': ['auto', 'sqrt'],\n",
    "    'clf_rf__bootstrap': [True, False]\n",
    "}\n",
    "\n",
    "\n",
    "# create the GridSearch function\n",
    "clf_search = GridSearchCV(clf_rf_, hyperparameters_rf, scoring= \"accuracy\", cv= 5, return_train_score=True) #we can use accuracy here since the dataset is balanced\n",
    "# Fit all the possible hyper-parameters combinations using cross-validation.\n",
    "_ =clf_search.fit(new_train_dataset, train_label_resampled['encoded_category'])"
   ]
  },
  {
   "cell_type": "code",
   "execution_count": 48,
   "id": "8b0fdf01-85f7-42ee-af59-7ff4b8096820",
   "metadata": {},
   "outputs": [
    {
     "name": "stdout",
     "output_type": "stream",
     "text": [
      "0.9133247089262613 {'clf_rf__bootstrap': False, 'clf_rf__criterion': 'gini', 'clf_rf__max_features': 'sqrt', 'clf_rf__n_estimators': 200}\n"
     ]
    }
   ],
   "source": [
    "print(clf_search.best_score_, clf_search.best_params_)"
   ]
  },
  {
   "cell_type": "markdown",
   "id": "819e793c-3b4f-45d7-a8b4-2abaa894a554",
   "metadata": {},
   "source": [
    "Model Evaluation"
   ]
  },
  {
   "cell_type": "code",
   "execution_count": 51,
   "id": "054211b9-ebe8-4d8b-a443-591f1b7a32a1",
   "metadata": {},
   "outputs": [
    {
     "name": "stdout",
     "output_type": "stream",
     "text": [
      "              precision    recall  f1-score   support\n",
      "\n",
      "           0       0.78      0.64      0.70       307\n",
      "           1       0.80      0.89      0.84       580\n",
      "           2       0.85      0.33      0.48        33\n",
      "           3       0.81      0.81      0.81       505\n",
      "           4       0.83      0.86      0.85       390\n",
      "\n",
      "    accuracy                           0.81      1815\n",
      "   macro avg       0.81      0.71      0.74      1815\n",
      "weighted avg       0.81      0.81      0.80      1815\n",
      "\n"
     ]
    },
    {
     "data": {
      "image/png": "[encoded data removed]",
      "text/plain": [
       "<Figure size 640x480 with 2 Axes>"
      ]
     },
     "metadata": {},
     "output_type": "display_data"
    }
   ],
   "source": [
    "best_clf = clf_search.best_estimator_\n",
    "label_pred = best_clf.predict(new_test_dataset)\n",
    "print(classification_report(test_label['encoded_category'], label_pred))\n",
    "cm= ConfusionMatrixDisplay.from_estimator(best_clf, new_test_dataset, test_label['encoded_category'])"
   ]
  },
  {
   "cell_type": "code",
   "execution_count": null,
   "id": "eb5c5c88-69ee-4667-88d2-83371905ae24",
   "metadata": {},
   "outputs": [],
   "source": []
  },
  {
   "cell_type": "markdown",
   "id": "4f216c1c-7fbe-4df2-b0ed-2398594166a9",
   "metadata": {},
   "source": [
    "##### Preprocessing using TFIDF Vectorizer"
   ]
  },
  {
   "cell_type": "code",
   "execution_count": 52,
   "id": "a14204bd-c48b-45c8-afae-83c82172d8a7",
   "metadata": {},
   "outputs": [],
   "source": [
    "\n",
    "EXTRA_PUNCT = string.punctuation\n",
    "def preprocess_text(text_):\n",
    "  \"\"\"\n",
    "  This function takes a Spacy doc and returns the list of its lemmas\n",
    "  \"\"\"\n",
    "  doc_ = nlp(text_)\n",
    "  lemmas_ = [token.lemma_ for token in doc_ ]\n",
    "  return [lemma for lemma in lemmas_ if lemma not in EXTRA_PUNCT]\n"
   ]
  },
  {
   "cell_type": "code",
   "execution_count": 53,
   "id": "2beb311a-5a2b-4ae2-8b1a-0490ba9b2fad",
   "metadata": {},
   "outputs": [
    {
     "data": {
      "text/plain": [
       "0    [john, hick, use, term, soulmak, theodici, evi...\n",
       "1    [field, experiment, aesthet, find, gustav, the...\n",
       "2    [buddhist, jain, advaita, vedantin, nyaya, phi...\n",
       "3    [walli, simpson, princ, wale, gener, accept, b...\n",
       "4    [autoit, autom, script, convert, compress, sta...\n",
       "Name: tokenized_text, dtype: object"
      ]
     },
     "execution_count": 53,
     "metadata": {},
     "output_type": "execute_result"
    }
   ],
   "source": [
    "# Generating tokens of the cleaned paragraph of training data\n",
    "train_dataset_resampled['tokenized_text'] = train_dataset_resampled['cleaned_paragraph'].apply(preprocess_text)\n",
    "# Displaying the tokens generated for the first 5 rows\n",
    "train_dataset_resampled['tokenized_text'].head()"
   ]
  },
  {
   "cell_type": "code",
   "execution_count": 54,
   "id": "979fb9b5-448f-4105-b38a-d7136a093bc1",
   "metadata": {},
   "outputs": [
    {
     "data": {
      "text/plain": [
       "2443    [tix, tk, interfac, extens, set, user, interfa...\n",
       "5136    [well, explor, experiment, materi, project, al...\n",
       "3021    [stain, glass, window, dine, hall, gonvil, cai...\n",
       "5950    [edward, commonli, know, close, david, bear, f...\n",
       "7530    [unadulter, nonviol, noncooper, whole, india, ...\n",
       "Name: tokenized_text, dtype: object"
      ]
     },
     "execution_count": 54,
     "metadata": {},
     "output_type": "execute_result"
    }
   ],
   "source": [
    "# Generating tokens of the cleaned paragraph of test data\n",
    "test_dataset['tokenized_text'] = test_dataset['cleaned_paragraph'].apply(preprocess_text)\n",
    "# Displaying the tokens generated for the first 5 rows\n",
    "test_dataset['tokenized_text'].head()"
   ]
  },
  {
   "cell_type": "code",
   "execution_count": 55,
   "id": "f4c6b0ef-9980-4c38-8af5-3439e324ace3",
   "metadata": {},
   "outputs": [],
   "source": [
    "# creating the transformer\n",
    "preprocessor = ColumnTransformer(\n",
    "    transformers=[\n",
    "        ('text encoding', TfidfVectorizer(lowercase=False,tokenizer=lambda x: x), 'tokenized_text'),\n",
    "        ('feature encoding', OneHotEncoder(), ['ORG','PRODUCT','PERSON'])\n",
    "    ],\n",
    "    remainder='passthrough',\n",
    "    verbose_feature_names_out=False\n",
    ")"
   ]
  },
  {
   "cell_type": "code",
   "execution_count": 56,
   "id": "b304ce86-81ea-417f-aba3-d177c4054218",
   "metadata": {},
   "outputs": [],
   "source": [
    "# Columns to be transformed\n",
    "columns = ['tokenized_text','ORG','PRODUCT','PERSON']"
   ]
  },
  {
   "cell_type": "markdown",
   "id": "aead1845-ad9f-463b-a381-8589f037b3f5",
   "metadata": {},
   "source": [
    "##### Model building and evaluation"
   ]
  },
  {
   "cell_type": "markdown",
   "id": "69aa82a8-a62b-4e1c-8943-d6b6a0106f68",
   "metadata": {},
   "source": [
    "1. Logistic Regression"
   ]
  },
  {
   "cell_type": "code",
   "execution_count": 57,
   "id": "17431240-42b2-4bca-a15a-2df2b87b4c77",
   "metadata": {},
   "outputs": [],
   "source": [
    "# defining the Logistic Regression pipeline\n",
    "clf_lr_ = Pipeline(\n",
    "        steps =[('encoding', preprocessor),\n",
    "              ('clf_lr', LogisticRegression()),\n",
    "      ]\n",
    "    )\n",
    "\n",
    "#defining the hyperparameters\n",
    "hyperparameters_lr = {\n",
    "    'clf_lr__penalty': ['l2','None'],\n",
    "    'clf_lr__solver': ['newton-cg', 'sag', 'saga', 'lbfgs' ],\n",
    "    'clf_lr__C': [0.01, 0.1,0.5,1],\n",
    "    'clf_lr__multi_class': ['auto', 'ovr', 'multinomial'],\n",
    "}\n",
    "\n",
    "\n",
    "# create the GridSearch function\n",
    "clf_search = GridSearchCV(clf_lr_, hyperparameters_lr, scoring= \"accuracy\", cv= 5, return_train_score=True) #we can use accuracy here since the dataset is balanced\n",
    "# Fit all the possible hyper-parameters combinations using cross-validation.\n",
    "_ =clf_search.fit(train_dataset_resampled[columns], train_label_resampled['encoded_category'])"
   ]
  },
  {
   "cell_type": "code",
   "execution_count": 58,
   "id": "c03ea3f2-b4d5-47ae-9a92-456b25609969",
   "metadata": {},
   "outputs": [
    {
     "name": "stdout",
     "output_type": "stream",
     "text": [
      "0.9542043984476066 {'clf_lr__C': 1, 'clf_lr__multi_class': 'auto', 'clf_lr__penalty': 'l2', 'clf_lr__solver': 'newton-cg'}\n"
     ]
    }
   ],
   "source": [
    "print(clf_search.best_score_, clf_search.best_params_)"
   ]
  },
  {
   "cell_type": "markdown",
   "id": "40623558-07ec-4c9d-ad3a-ebb6599f85a8",
   "metadata": {},
   "source": [
    "Model Evaluation"
   ]
  },
  {
   "cell_type": "code",
   "execution_count": 61,
   "id": "95bd2d3e-2c0e-4375-b00b-8531f1717411",
   "metadata": {},
   "outputs": [
    {
     "name": "stdout",
     "output_type": "stream",
     "text": [
      "              precision    recall  f1-score   support\n",
      "\n",
      "           0       0.89      0.89      0.89       307\n",
      "           1       0.94      0.94      0.94       580\n",
      "           2       0.91      0.94      0.93        33\n",
      "           3       0.93      0.93      0.93       505\n",
      "           4       0.96      0.95      0.96       390\n",
      "\n",
      "    accuracy                           0.93      1815\n",
      "   macro avg       0.93      0.93      0.93      1815\n",
      "weighted avg       0.93      0.93      0.93      1815\n",
      "\n"
     ]
    },
    {
     "data": {
      "image/png": "[encoded data removed]",
      "text/plain": [
       "<Figure size 640x480 with 2 Axes>"
      ]
     },
     "metadata": {},
     "output_type": "display_data"
    }
   ],
   "source": [
    "best_clf = clf_search.best_estimator_\n",
    "label_pred = best_clf.predict(test_dataset[columns])\n",
    "print(classification_report(test_label['encoded_category'], label_pred))\n",
    "cm= ConfusionMatrixDisplay.from_estimator(best_clf, test_dataset, test_label['encoded_category'])"
   ]
  },
  {
   "cell_type": "markdown",
   "id": "83bcd9f8-ade0-4c7b-a25e-6f0c3ae7276a",
   "metadata": {},
   "source": [
    "2. RandomForest"
   ]
  },
  {
   "cell_type": "code",
   "execution_count": 62,
   "id": "85e8b853-2898-4244-9dcf-4e0ca4e4f470",
   "metadata": {},
   "outputs": [],
   "source": [
    "# defining the randomforest pipeline\n",
    "clf_rf_ = Pipeline(\n",
    "        steps =[('encoding', preprocessor),\n",
    "              ('clf_rf', RandomForestClassifier()),\n",
    "      ]\n",
    "    )\n",
    "\n",
    "#defining the hyperparameters\n",
    "hyperparameters_rf = {\n",
    "    'clf_rf__n_estimators': [100,200,300],\n",
    "    'clf_rf__criterion': ['gini','entropy','log_loss'],\n",
    "    'clf_rf__max_features': ['auto', 'sqrt'],\n",
    "    'clf_rf__bootstrap': [True, False]\n",
    "}\n",
    "\n",
    "\n",
    "# create the GridSearch function\n",
    "clf_search = GridSearchCV(clf_rf_, hyperparameters_rf, scoring= \"accuracy\", cv= 5, return_train_score=True) #we can use accuracy here since the dataset is balanced\n",
    "# Fit all the possible hyper-parameters combinations using cross-validation.\n",
    "_ =clf_search.fit(train_dataset_resampled[columns], train_label_resampled['encoded_category'])"
   ]
  },
  {
   "cell_type": "code",
   "execution_count": 63,
   "id": "e1e6fdca-212c-4f6b-9dae-aed87fe94f7e",
   "metadata": {},
   "outputs": [
    {
     "name": "stdout",
     "output_type": "stream",
     "text": [
      "0.9373005605864597 {'clf_rf__bootstrap': False, 'clf_rf__criterion': 'gini', 'clf_rf__max_features': 'sqrt', 'clf_rf__n_estimators': 200}\n"
     ]
    }
   ],
   "source": [
    "print(clf_search.best_score_, clf_search.best_params_)"
   ]
  },
  {
   "cell_type": "markdown",
   "id": "8a46b0af-ad16-4f2a-bd3c-9007b1ab7e5a",
   "metadata": {},
   "source": [
    "Model Evaluation"
   ]
  },
  {
   "cell_type": "code",
   "execution_count": 66,
   "id": "b55089be-4cc0-41eb-8f8b-4185735a0395",
   "metadata": {},
   "outputs": [
    {
     "name": "stdout",
     "output_type": "stream",
     "text": [
      "              precision    recall  f1-score   support\n",
      "\n",
      "           0       0.88      0.80      0.84       307\n",
      "           1       0.90      0.91      0.90       580\n",
      "           2       1.00      0.67      0.80        33\n",
      "           3       0.89      0.88      0.88       505\n",
      "           4       0.88      0.96      0.92       390\n",
      "\n",
      "    accuracy                           0.89      1815\n",
      "   macro avg       0.91      0.84      0.87      1815\n",
      "weighted avg       0.89      0.89      0.89      1815\n",
      "\n"
     ]
    },
    {
     "data": {
      "image/png": "[encoded data removed]",
      "text/plain": [
       "<Figure size 640x480 with 2 Axes>"
      ]
     },
     "metadata": {},
     "output_type": "display_data"
    }
   ],
   "source": [
    "best_clf = clf_search.best_estimator_\n",
    "label_pred = best_clf.predict(test_dataset[columns])\n",
    "print(classification_report(test_label['encoded_category'], label_pred))\n",
    "cm= ConfusionMatrixDisplay.from_estimator(best_clf, test_dataset, test_label['encoded_category'])"
   ]
  },
  {
   "cell_type": "markdown",
   "id": "11996816-2247-453a-96f8-912a6bbb10eb",
   "metadata": {},
   "source": [
    "#### Task 2: Text Clarity Classification"
   ]
  },
  {
   "cell_type": "markdown",
   "id": "b654d979-45ea-45c2-bbdc-8b4a898ad3ed",
   "metadata": {},
   "source": [
    "For building the prototype model for text clarity classification, the columns to be used are 'paragraph','lexicon_count','difficult_words','text_clarity'\n",
    "\n",
    "Extracting those columns from the dataset"
   ]
  },
  {
   "cell_type": "code",
   "execution_count": 68,
   "id": "d74f462f-c338-412b-86d1-5e27dfd592e3",
   "metadata": {},
   "outputs": [],
   "source": [
    "features = ['paragraph','lexicon_count','difficult_words','text_clarity']\n",
    "feature_dataset = coursework_dataset[features]"
   ]
  },
  {
   "cell_type": "code",
   "execution_count": 69,
   "id": "e39bb373-1916-4d85-b7b3-863274d85cda",
   "metadata": {},
   "outputs": [
    {
     "data": {
      "text/plain": [
       "paragraph             0\n",
       "lexicon_count         0\n",
       "difficult_words      18\n",
       "text_clarity       9123\n",
       "dtype: int64"
      ]
     },
     "execution_count": 69,
     "metadata": {},
     "output_type": "execute_result"
    }
   ],
   "source": [
    "# checking for null values\n",
    "feature_dataset.isna().sum()"
   ]
  },
  {
   "cell_type": "markdown",
   "id": "2322ea3b-f938-430e-8fab-53c306c499e6",
   "metadata": {},
   "source": [
    "The feature, difficult_words have 18 null values and the target variable 'text_clarity' have 9123 null values. But only null values in the difficult_words will be removed "
   ]
  },
  {
   "cell_type": "code",
   "execution_count": 70,
   "id": "f6c53948-d734-4b89-983e-974537df5836",
   "metadata": {},
   "outputs": [],
   "source": [
    "feature_dataset = feature_dataset.dropna(subset=['difficult_words'])"
   ]
  },
  {
   "cell_type": "code",
   "execution_count": 71,
   "id": "158a0a76-bc5c-4f3e-ad61-9513346eb326",
   "metadata": {},
   "outputs": [
    {
     "data": {
      "text/plain": [
       "paragraph             0\n",
       "lexicon_count         0\n",
       "difficult_words       0\n",
       "text_clarity       9105\n",
       "dtype: int64"
      ]
     },
     "execution_count": 71,
     "metadata": {},
     "output_type": "execute_result"
    }
   ],
   "source": [
    "feature_dataset.isna().sum()"
   ]
  },
  {
   "cell_type": "markdown",
   "id": "510d24a9-18d5-4037-8ceb-46739303a5e5",
   "metadata": {},
   "source": [
    "After removing null values, dataset has 9105 observations"
   ]
  },
  {
   "cell_type": "markdown",
   "id": "9e036647-fd45-431b-b628-c1cf95a036d3",
   "metadata": {},
   "source": [
    "Extractibg the first 1000 records for building the prototype"
   ]
  },
  {
   "cell_type": "code",
   "execution_count": 76,
   "id": "c3948123-b4b3-470d-a23b-c4f5c1bc3894",
   "metadata": {},
   "outputs": [],
   "source": [
    "feature_dataset = feature_dataset.head(1000)"
   ]
  },
  {
   "cell_type": "markdown",
   "id": "2679a92c-ad63-499b-b723-9959c4626de4",
   "metadata": {},
   "source": [
    "Preprocessing the paragraph column"
   ]
  },
  {
   "cell_type": "code",
   "execution_count": 77,
   "id": "1fe81e6a-f957-44b5-89be-12a99d884c1d",
   "metadata": {},
   "outputs": [],
   "source": [
    "# defining a function to clean the text data\n",
    "def clean_text(x):\n",
    "  return cleantext.clean(x,\n",
    "      clean_all= True,\n",
    "      extra_spaces= True,\n",
    "      stemming= True,\n",
    "      stopwords= True,\n",
    "      lowercase= True,\n",
    "      numbers= True,\n",
    "      punct= True,\n",
    "      reg = r\"-\",\n",
    "      reg_replace = '',\n",
    "      stp_lang = 'english'\n",
    ")"
   ]
  },
  {
   "cell_type": "code",
   "execution_count": 78,
   "id": "2e508a99-6eaf-43fc-981f-120fb07a567a",
   "metadata": {},
   "outputs": [],
   "source": [
    "feature_dataset['cleaned_paragraph'] = feature_dataset['paragraph'].apply(clean_text)"
   ]
  },
  {
   "cell_type": "markdown",
   "id": "11ec1b36-bd81-41e1-8bcf-b6217a9a6e22",
   "metadata": {},
   "source": [
    "Using TF-IDF as vectorizer"
   ]
  },
  {
   "cell_type": "code",
   "execution_count": 170,
   "id": "5d8f9e69-fc94-47c7-b046-d58954166a6f",
   "metadata": {},
   "outputs": [],
   "source": [
    "EXTRA_PUNCT = string.punctuation\n",
    "def preprocess_text_with_spacy(text_):\n",
    "  \"\"\"\n",
    "  This function takes a Spacy doc and returns the list of its lemmas,\n",
    "  \"\"\"\n",
    "  doc_ = nlp(text_)\n",
    "  # here we take the lemmas, and now we also want to but only keep those that are NOT stop words, only digits, or punctuation.\n",
    "  lemmas_ = [token.lemma_ for token in doc_ ]\n",
    "  return [lemma for lemma in lemmas_ if lemma not in EXTRA_PUNCT]"
   ]
  },
  {
   "cell_type": "markdown",
   "id": "6765508e-d4a5-4480-bb9e-936fe2eb301a",
   "metadata": {},
   "source": [
    "Tokenizing the cleaned paragraph"
   ]
  },
  {
   "cell_type": "code",
   "execution_count": 80,
   "id": "6919f10a-8be3-4321-a818-71df87318573",
   "metadata": {},
   "outputs": [],
   "source": [
    "nlp = spacy.load('en_core_web_md')\n",
    "feature_dataset['tokenized_text'] = feature_dataset['cleaned_paragraph'].apply(preprocess_text_with_spacy)"
   ]
  },
  {
   "cell_type": "code",
   "execution_count": 81,
   "id": "358520af-15b8-48aa-a8ca-6aa76d9a79ea",
   "metadata": {},
   "outputs": [],
   "source": [
    "tfidf_vectorizer = TfidfVectorizer(lowercase=False,tokenizer=lambda x: x)\n",
    "\n",
    "# Fit and transform the text data in the column\n",
    "tfidf_matrix = tfidf_vectorizer.fit_transform(feature_dataset['tokenized_text'])\n",
    "\n",
    "# Convert the TF-IDF matrix into a DataFrame\n",
    "tfidf_df = pd.DataFrame(tfidf_matrix.toarray(), columns=tfidf_vectorizer.get_feature_names_out(),index=feature_dataset.index)\n",
    "preprocessed_data= pd.concat([feature_dataset, tfidf_df],axis=1)"
   ]
  },
  {
   "cell_type": "code",
   "execution_count": 82,
   "id": "006490f0-bb46-4c43-b413-3f0b0ba86cad",
   "metadata": {},
   "outputs": [],
   "source": [
    "new_feature_dataset = preprocessed_data.drop(columns=['paragraph','text_clarity','cleaned_paragraph','tokenized_text'])"
   ]
  },
  {
   "cell_type": "code",
   "execution_count": 84,
   "id": "54effb2e-3041-4239-9bf0-578cc1dbd298",
   "metadata": {},
   "outputs": [
    {
     "data": {
      "text/plain": [
       "(1000, 8438)"
      ]
     },
     "execution_count": 84,
     "metadata": {},
     "output_type": "execute_result"
    }
   ],
   "source": [
    "new_feature_dataset.shape"
   ]
  },
  {
   "cell_type": "code",
   "execution_count": 85,
   "id": "615c6cea-2d10-4be4-8b69-8ab34315c786",
   "metadata": {},
   "outputs": [],
   "source": [
    "labels = feature_dataset['text_clarity']"
   ]
  },
  {
   "cell_type": "code",
   "execution_count": 86,
   "id": "abbafc82-b05a-4b8c-9770-3d60a729fd38",
   "metadata": {},
   "outputs": [],
   "source": [
    "label_encoder_train = LabelEncoder()\n",
    "labels = (pd.Series(label_encoder_train.fit_transform(labels))).replace(2,-1)"
   ]
  },
  {
   "cell_type": "code",
   "execution_count": 87,
   "id": "90789ffd-02df-4b21-8e5c-d685611ad02b",
   "metadata": {},
   "outputs": [
    {
     "data": {
      "text/plain": [
       "-1    991\n",
       " 0      5\n",
       " 1      4\n",
       "Name: count, dtype: int64"
      ]
     },
     "execution_count": 87,
     "metadata": {},
     "output_type": "execute_result"
    }
   ],
   "source": [
    "labels.value_counts()"
   ]
  },
  {
   "cell_type": "code",
   "execution_count": 88,
   "id": "366bd8ef-7ef9-47bf-98e9-43387ff9c7d2",
   "metadata": {},
   "outputs": [],
   "source": [
    "scaler = StandardScaler()"
   ]
  },
  {
   "cell_type": "code",
   "execution_count": 89,
   "id": "216d73ac-f5d5-4138-b88d-0c7db1893f35",
   "metadata": {},
   "outputs": [],
   "source": [
    "scaled_data = pd.DataFrame(scaler.fit_transform(new_feature_dataset[['lexicon_count','difficult_words']]),index=new_feature_dataset.index)"
   ]
  },
  {
   "cell_type": "code",
   "execution_count": 90,
   "id": "ce4acde9-8d0f-40b9-99ab-1f8bade7af30",
   "metadata": {},
   "outputs": [],
   "source": [
    "new_feature_dataset[['lexicon_count','difficult_words']] = scaled_data"
   ]
  },
  {
   "cell_type": "markdown",
   "id": "0d141faa-e70c-46d2-829f-4679a44dabb9",
   "metadata": {},
   "source": [
    "Generating Pseudo labels"
   ]
  },
  {
   "cell_type": "code",
   "execution_count": 92,
   "id": "1fc117ad-c297-414e-9fea-73fcfb98cb10",
   "metadata": {},
   "outputs": [
    {
     "data": {
      "text/html": [
       "<style>#sk-container-id-1 {\n",
       "  /* Definition of color scheme common for light and dark mode */\n",
       "  --sklearn-color-text: black;\n",
       "  --sklearn-color-line: gray;\n",
       "  /* Definition of color scheme for unfitted estimators */\n",
       "  --sklearn-color-unfitted-level-0: #fff5e6;\n",
       "  --sklearn-color-unfitted-level-1: #f6e4d2;\n",
       "  --sklearn-color-unfitted-level-2: #ffe0b3;\n",
       "  --sklearn-color-unfitted-level-3: chocolate;\n",
       "  /* Definition of color scheme for fitted estimators */\n",
       "  --sklearn-color-fitted-level-0: #f0f8ff;\n",
       "  --sklearn-color-fitted-level-1: #d4ebff;\n",
       "  --sklearn-color-fitted-level-2: #b3dbfd;\n",
       "  --sklearn-color-fitted-level-3: cornflowerblue;\n",
       "\n",
       "  /* Specific color for light theme */\n",
       "  --sklearn-color-text-on-default-background: var(--sg-text-color, var(--theme-code-foreground, var(--jp-content-font-color1, black)));\n",
       "  --sklearn-color-background: var(--sg-background-color, var(--theme-background, var(--jp-layout-color0, white)));\n",
       "  --sklearn-color-border-box: var(--sg-text-color, var(--theme-code-foreground, var(--jp-content-font-color1, black)));\n",
       "  --sklearn-color-icon: #696969;\n",
       "\n",
       "  @media (prefers-color-scheme: dark) {\n",
       "    /* Redefinition of color scheme for dark theme */\n",
       "    --sklearn-color-text-on-default-background: var(--sg-text-color, var(--theme-code-foreground, var(--jp-content-font-color1, white)));\n",
       "    --sklearn-color-background: var(--sg-background-color, var(--theme-background, var(--jp-layout-color0, #111)));\n",
       "    --sklearn-color-border-box: var(--sg-text-color, var(--theme-code-foreground, var(--jp-content-font-color1, white)));\n",
       "    --sklearn-color-icon: #878787;\n",
       "  }\n",
       "}\n",
       "\n",
       "#sk-container-id-1 {\n",
       "  color: var(--sklearn-color-text);\n",
       "}\n",
       "\n",
       "#sk-container-id-1 pre {\n",
       "  padding: 0;\n",
       "}\n",
       "\n",
       "#sk-container-id-1 input.sk-hidden--visually {\n",
       "  border: 0;\n",
       "  clip: rect(1px 1px 1px 1px);\n",
       "  clip: rect(1px, 1px, 1px, 1px);\n",
       "  height: 1px;\n",
       "  margin: -1px;\n",
       "  overflow: hidden;\n",
       "  padding: 0;\n",
       "  position: absolute;\n",
       "  width: 1px;\n",
       "}\n",
       "\n",
       "#sk-container-id-1 div.sk-dashed-wrapped {\n",
       "  border: 1px dashed var(--sklearn-color-line);\n",
       "  margin: 0 0.4em 0.5em 0.4em;\n",
       "  box-sizing: border-box;\n",
       "  padding-bottom: 0.4em;\n",
       "  background-color: var(--sklearn-color-background);\n",
       "}\n",
       "\n",
       "#sk-container-id-1 div.sk-container {\n",
       "  /* jupyter's `normalize.less` sets `[hidden] { display: none; }`\n",
       "     but bootstrap.min.css set `[hidden] { display: none !important; }`\n",
       "     so we also need the `!important` here to be able to override the\n",
       "     default hidden behavior on the sphinx rendered scikit-learn.org.\n",
       "     See: https://github.com/scikit-learn/scikit-learn/issues/21755 */\n",
       "  display: inline-block !important;\n",
       "  position: relative;\n",
       "}\n",
       "\n",
       "#sk-container-id-1 div.sk-text-repr-fallback {\n",
       "  display: none;\n",
       "}\n",
       "\n",
       "div.sk-parallel-item,\n",
       "div.sk-serial,\n",
       "div.sk-item {\n",
       "  /* draw centered vertical line to link estimators */\n",
       "  background-image: linear-gradient(var(--sklearn-color-text-on-default-background), var(--sklearn-color-text-on-default-background));\n",
       "  background-size: 2px 100%;\n",
       "  background-repeat: no-repeat;\n",
       "  background-position: center center;\n",
       "}\n",
       "\n",
       "/* Parallel-specific style estimator block */\n",
       "\n",
       "#sk-container-id-1 div.sk-parallel-item::after {\n",
       "  content: \"\";\n",
       "  width: 100%;\n",
       "  border-bottom: 2px solid var(--sklearn-color-text-on-default-background);\n",
       "  flex-grow: 1;\n",
       "}\n",
       "\n",
       "#sk-container-id-1 div.sk-parallel {\n",
       "  display: flex;\n",
       "  align-items: stretch;\n",
       "  justify-content: center;\n",
       "  background-color: var(--sklearn-color-background);\n",
       "  position: relative;\n",
       "}\n",
       "\n",
       "#sk-container-id-1 div.sk-parallel-item {\n",
       "  display: flex;\n",
       "  flex-direction: column;\n",
       "}\n",
       "\n",
       "#sk-container-id-1 div.sk-parallel-item:first-child::after {\n",
       "  align-self: flex-end;\n",
       "  width: 50%;\n",
       "}\n",
       "\n",
       "#sk-container-id-1 div.sk-parallel-item:last-child::after {\n",
       "  align-self: flex-start;\n",
       "  width: 50%;\n",
       "}\n",
       "\n",
       "#sk-container-id-1 div.sk-parallel-item:only-child::after {\n",
       "  width: 0;\n",
       "}\n",
       "\n",
       "/* Serial-specific style estimator block */\n",
       "\n",
       "#sk-container-id-1 div.sk-serial {\n",
       "  display: flex;\n",
       "  flex-direction: column;\n",
       "  align-items: center;\n",
       "  background-color: var(--sklearn-color-background);\n",
       "  padding-right: 1em;\n",
       "  padding-left: 1em;\n",
       "}\n",
       "\n",
       "\n",
       "/* Toggleable style: style used for estimator/Pipeline/ColumnTransformer box that is\n",
       "clickable and can be expanded/collapsed.\n",
       "- Pipeline and ColumnTransformer use this feature and define the default style\n",
       "- Estimators will overwrite some part of the style using the `sk-estimator` class\n",
       "*/\n",
       "\n",
       "/* Pipeline and ColumnTransformer style (default) */\n",
       "\n",
       "#sk-container-id-1 div.sk-toggleable {\n",
       "  /* Default theme specific background. It is overwritten whether we have a\n",
       "  specific estimator or a Pipeline/ColumnTransformer */\n",
       "  background-color: var(--sklearn-color-background);\n",
       "}\n",
       "\n",
       "/* Toggleable label */\n",
       "#sk-container-id-1 label.sk-toggleable__label {\n",
       "  cursor: pointer;\n",
       "  display: block;\n",
       "  width: 100%;\n",
       "  margin-bottom: 0;\n",
       "  padding: 0.5em;\n",
       "  box-sizing: border-box;\n",
       "  text-align: center;\n",
       "}\n",
       "\n",
       "#sk-container-id-1 label.sk-toggleable__label-arrow:before {\n",
       "  /* Arrow on the left of the label */\n",
       "  content: \"▸\";\n",
       "  float: left;\n",
       "  margin-right: 0.25em;\n",
       "  color: var(--sklearn-color-icon);\n",
       "}\n",
       "\n",
       "#sk-container-id-1 label.sk-toggleable__label-arrow:hover:before {\n",
       "  color: var(--sklearn-color-text);\n",
       "}\n",
       "\n",
       "/* Toggleable content - dropdown */\n",
       "\n",
       "#sk-container-id-1 div.sk-toggleable__content {\n",
       "  max-height: 0;\n",
       "  max-width: 0;\n",
       "  overflow: hidden;\n",
       "  text-align: left;\n",
       "  /* unfitted */\n",
       "  background-color: var(--sklearn-color-unfitted-level-0);\n",
       "}\n",
       "\n",
       "#sk-container-id-1 div.sk-toggleable__content.fitted {\n",
       "  /* fitted */\n",
       "  background-color: var(--sklearn-color-fitted-level-0);\n",
       "}\n",
       "\n",
       "#sk-container-id-1 div.sk-toggleable__content pre {\n",
       "  margin: 0.2em;\n",
       "  border-radius: 0.25em;\n",
       "  color: var(--sklearn-color-text);\n",
       "  /* unfitted */\n",
       "  background-color: var(--sklearn-color-unfitted-level-0);\n",
       "}\n",
       "\n",
       "#sk-container-id-1 div.sk-toggleable__content.fitted pre {\n",
       "  /* unfitted */\n",
       "  background-color: var(--sklearn-color-fitted-level-0);\n",
       "}\n",
       "\n",
       "#sk-container-id-1 input.sk-toggleable__control:checked~div.sk-toggleable__content {\n",
       "  /* Expand drop-down */\n",
       "  max-height: 200px;\n",
       "  max-width: 100%;\n",
       "  overflow: auto;\n",
       "}\n",
       "\n",
       "#sk-container-id-1 input.sk-toggleable__control:checked~label.sk-toggleable__label-arrow:before {\n",
       "  content: \"▾\";\n",
       "}\n",
       "\n",
       "/* Pipeline/ColumnTransformer-specific style */\n",
       "\n",
       "#sk-container-id-1 div.sk-label input.sk-toggleable__control:checked~label.sk-toggleable__label {\n",
       "  color: var(--sklearn-color-text);\n",
       "  background-color: var(--sklearn-color-unfitted-level-2);\n",
       "}\n",
       "\n",
       "#sk-container-id-1 div.sk-label.fitted input.sk-toggleable__control:checked~label.sk-toggleable__label {\n",
       "  background-color: var(--sklearn-color-fitted-level-2);\n",
       "}\n",
       "\n",
       "/* Estimator-specific style */\n",
       "\n",
       "/* Colorize estimator box */\n",
       "#sk-container-id-1 div.sk-estimator input.sk-toggleable__control:checked~label.sk-toggleable__label {\n",
       "  /* unfitted */\n",
       "  background-color: var(--sklearn-color-unfitted-level-2);\n",
       "}\n",
       "\n",
       "#sk-container-id-1 div.sk-estimator.fitted input.sk-toggleable__control:checked~label.sk-toggleable__label {\n",
       "  /* fitted */\n",
       "  background-color: var(--sklearn-color-fitted-level-2);\n",
       "}\n",
       "\n",
       "#sk-container-id-1 div.sk-label label.sk-toggleable__label,\n",
       "#sk-container-id-1 div.sk-label label {\n",
       "  /* The background is the default theme color */\n",
       "  color: var(--sklearn-color-text-on-default-background);\n",
       "}\n",
       "\n",
       "/* On hover, darken the color of the background */\n",
       "#sk-container-id-1 div.sk-label:hover label.sk-toggleable__label {\n",
       "  color: var(--sklearn-color-text);\n",
       "  background-color: var(--sklearn-color-unfitted-level-2);\n",
       "}\n",
       "\n",
       "/* Label box, darken color on hover, fitted */\n",
       "#sk-container-id-1 div.sk-label.fitted:hover label.sk-toggleable__label.fitted {\n",
       "  color: var(--sklearn-color-text);\n",
       "  background-color: var(--sklearn-color-fitted-level-2);\n",
       "}\n",
       "\n",
       "/* Estimator label */\n",
       "\n",
       "#sk-container-id-1 div.sk-label label {\n",
       "  font-family: monospace;\n",
       "  font-weight: bold;\n",
       "  display: inline-block;\n",
       "  line-height: 1.2em;\n",
       "}\n",
       "\n",
       "#sk-container-id-1 div.sk-label-container {\n",
       "  text-align: center;\n",
       "}\n",
       "\n",
       "/* Estimator-specific */\n",
       "#sk-container-id-1 div.sk-estimator {\n",
       "  font-family: monospace;\n",
       "  border: 1px dotted var(--sklearn-color-border-box);\n",
       "  border-radius: 0.25em;\n",
       "  box-sizing: border-box;\n",
       "  margin-bottom: 0.5em;\n",
       "  /* unfitted */\n",
       "  background-color: var(--sklearn-color-unfitted-level-0);\n",
       "}\n",
       "\n",
       "#sk-container-id-1 div.sk-estimator.fitted {\n",
       "  /* fitted */\n",
       "  background-color: var(--sklearn-color-fitted-level-0);\n",
       "}\n",
       "\n",
       "/* on hover */\n",
       "#sk-container-id-1 div.sk-estimator:hover {\n",
       "  /* unfitted */\n",
       "  background-color: var(--sklearn-color-unfitted-level-2);\n",
       "}\n",
       "\n",
       "#sk-container-id-1 div.sk-estimator.fitted:hover {\n",
       "  /* fitted */\n",
       "  background-color: var(--sklearn-color-fitted-level-2);\n",
       "}\n",
       "\n",
       "/* Specification for estimator info (e.g. \"i\" and \"?\") */\n",
       "\n",
       "/* Common style for \"i\" and \"?\" */\n",
       "\n",
       ".sk-estimator-doc-link,\n",
       "a:link.sk-estimator-doc-link,\n",
       "a:visited.sk-estimator-doc-link {\n",
       "  float: right;\n",
       "  font-size: smaller;\n",
       "  line-height: 1em;\n",
       "  font-family: monospace;\n",
       "  background-color: var(--sklearn-color-background);\n",
       "  border-radius: 1em;\n",
       "  height: 1em;\n",
       "  width: 1em;\n",
       "  text-decoration: none !important;\n",
       "  margin-left: 1ex;\n",
       "  /* unfitted */\n",
       "  border: var(--sklearn-color-unfitted-level-1) 1pt solid;\n",
       "  color: var(--sklearn-color-unfitted-level-1);\n",
       "}\n",
       "\n",
       ".sk-estimator-doc-link.fitted,\n",
       "a:link.sk-estimator-doc-link.fitted,\n",
       "a:visited.sk-estimator-doc-link.fitted {\n",
       "  /* fitted */\n",
       "  border: var(--sklearn-color-fitted-level-1) 1pt solid;\n",
       "  color: var(--sklearn-color-fitted-level-1);\n",
       "}\n",
       "\n",
       "/* On hover */\n",
       "div.sk-estimator:hover .sk-estimator-doc-link:hover,\n",
       ".sk-estimator-doc-link:hover,\n",
       "div.sk-label-container:hover .sk-estimator-doc-link:hover,\n",
       ".sk-estimator-doc-link:hover {\n",
       "  /* unfitted */\n",
       "  background-color: var(--sklearn-color-unfitted-level-3);\n",
       "  color: var(--sklearn-color-background);\n",
       "  text-decoration: none;\n",
       "}\n",
       "\n",
       "div.sk-estimator.fitted:hover .sk-estimator-doc-link.fitted:hover,\n",
       ".sk-estimator-doc-link.fitted:hover,\n",
       "div.sk-label-container:hover .sk-estimator-doc-link.fitted:hover,\n",
       ".sk-estimator-doc-link.fitted:hover {\n",
       "  /* fitted */\n",
       "  background-color: var(--sklearn-color-fitted-level-3);\n",
       "  color: var(--sklearn-color-background);\n",
       "  text-decoration: none;\n",
       "}\n",
       "\n",
       "/* Span, style for the box shown on hovering the info icon */\n",
       ".sk-estimator-doc-link span {\n",
       "  display: none;\n",
       "  z-index: 9999;\n",
       "  position: relative;\n",
       "  font-weight: normal;\n",
       "  right: .2ex;\n",
       "  padding: .5ex;\n",
       "  margin: .5ex;\n",
       "  width: min-content;\n",
       "  min-width: 20ex;\n",
       "  max-width: 50ex;\n",
       "  color: var(--sklearn-color-text);\n",
       "  box-shadow: 2pt 2pt 4pt #999;\n",
       "  /* unfitted */\n",
       "  background: var(--sklearn-color-unfitted-level-0);\n",
       "  border: .5pt solid var(--sklearn-color-unfitted-level-3);\n",
       "}\n",
       "\n",
       ".sk-estimator-doc-link.fitted span {\n",
       "  /* fitted */\n",
       "  background: var(--sklearn-color-fitted-level-0);\n",
       "  border: var(--sklearn-color-fitted-level-3);\n",
       "}\n",
       "\n",
       ".sk-estimator-doc-link:hover span {\n",
       "  display: block;\n",
       "}\n",
       "\n",
       "/* \"?\"-specific style due to the `<a>` HTML tag */\n",
       "\n",
       "#sk-container-id-1 a.estimator_doc_link {\n",
       "  float: right;\n",
       "  font-size: 1rem;\n",
       "  line-height: 1em;\n",
       "  font-family: monospace;\n",
       "  background-color: var(--sklearn-color-background);\n",
       "  border-radius: 1rem;\n",
       "  height: 1rem;\n",
       "  width: 1rem;\n",
       "  text-decoration: none;\n",
       "  /* unfitted */\n",
       "  color: var(--sklearn-color-unfitted-level-1);\n",
       "  border: var(--sklearn-color-unfitted-level-1) 1pt solid;\n",
       "}\n",
       "\n",
       "#sk-container-id-1 a.estimator_doc_link.fitted {\n",
       "  /* fitted */\n",
       "  border: var(--sklearn-color-fitted-level-1) 1pt solid;\n",
       "  color: var(--sklearn-color-fitted-level-1);\n",
       "}\n",
       "\n",
       "/* On hover */\n",
       "#sk-container-id-1 a.estimator_doc_link:hover {\n",
       "  /* unfitted */\n",
       "  background-color: var(--sklearn-color-unfitted-level-3);\n",
       "  color: var(--sklearn-color-background);\n",
       "  text-decoration: none;\n",
       "}\n",
       "\n",
       "#sk-container-id-1 a.estimator_doc_link.fitted:hover {\n",
       "  /* fitted */\n",
       "  background-color: var(--sklearn-color-fitted-level-3);\n",
       "}\n",
       "</style><div id=\"sk-container-id-1\" class=\"sk-top-container\"><div class=\"sk-text-repr-fallback\"><pre>LabelSpreading()</pre><b>In a Jupyter environment, please rerun this cell to show the HTML representation or trust the notebook. <br />On GitHub, the HTML representation is unable to render, please try loading this page with nbviewer.org.</b></div><div class=\"sk-container\" hidden><div class=\"sk-item\"><div class=\"sk-estimator fitted sk-toggleable\"><input class=\"sk-toggleable__control sk-hidden--visually\" id=\"sk-estimator-id-1\" type=\"checkbox\" checked><label for=\"sk-estimator-id-1\" class=\"sk-toggleable__label fitted sk-toggleable__label-arrow fitted\">&nbsp;&nbsp;LabelSpreading<a class=\"sk-estimator-doc-link fitted\" rel=\"noreferrer\" target=\"_blank\" href=\"https://scikit-learn.org/1.4/modules/generated/sklearn.semi_supervised.LabelSpreading.html\">?<span>Documentation for LabelSpreading</span></a><span class=\"sk-estimator-doc-link fitted\">i<span>Fitted</span></span></label><div class=\"sk-toggleable__content fitted\"><pre>LabelSpreading()</pre></div> </div></div></div></div>"
      ],
      "text/plain": [
       "LabelSpreading()"
      ]
     },
     "execution_count": 92,
     "metadata": {},
     "output_type": "execute_result"
    }
   ],
   "source": [
    "self_training_model = LabelSpreading()\n",
    "self_training_model.fit(new_feature_dataset, labels)"
   ]
  },
  {
   "cell_type": "code",
   "execution_count": 129,
   "id": "c1dac189-b8d9-42fb-a404-3906e734cc62",
   "metadata": {},
   "outputs": [],
   "source": [
    "pseudo_label = self_training_model.transduction_"
   ]
  },
  {
   "cell_type": "code",
   "execution_count": 130,
   "id": "b1685981-71f2-49e0-95ab-65e88ee241ea",
   "metadata": {},
   "outputs": [],
   "source": [
    "mapping = {0:'clear_enough',1:'not_clear_enough'}\n",
    "pseudo_label_data = [mapping[label] for label in pseudo_label]"
   ]
  },
  {
   "cell_type": "code",
   "execution_count": 133,
   "id": "1b0f158f-0fb1-42be-98d0-d899dfae84c9",
   "metadata": {},
   "outputs": [],
   "source": [
    "pseudo_label_data = pd.Categorical(pseudo_label_data)"
   ]
  },
  {
   "cell_type": "code",
   "execution_count": 141,
   "id": "cd6f16c5-6a79-46ef-9c51-44fd1a99c3a1",
   "metadata": {},
   "outputs": [],
   "source": [
    "data.drop(columns=['text_clarity'],inplace=True)"
   ]
  },
  {
   "cell_type": "code",
   "execution_count": 142,
   "id": "e920dcd4-96cf-4afb-97af-7fb5ee1dfe58",
   "metadata": {},
   "outputs": [
    {
     "data": {
      "text/html": [
       "<div>\n",
       "<style scoped>\n",
       "    .dataframe tbody tr th:only-of-type {\n",
       "        vertical-align: middle;\n",
       "    }\n",
       "\n",
       "    .dataframe tbody tr th {\n",
       "        vertical-align: top;\n",
       "    }\n",
       "\n",
       "    .dataframe thead th {\n",
       "        text-align: right;\n",
       "    }\n",
       "</style>\n",
       "<table border=\"1\" class=\"dataframe\">\n",
       "  <thead>\n",
       "    <tr style=\"text-align: right;\">\n",
       "      <th></th>\n",
       "      <th>par_id</th>\n",
       "      <th>paragraph</th>\n",
       "      <th>has_entity</th>\n",
       "      <th>lexicon_count</th>\n",
       "      <th>difficult_words</th>\n",
       "      <th>last_editor_gender</th>\n",
       "      <th>category</th>\n",
       "    </tr>\n",
       "  </thead>\n",
       "  <tbody>\n",
       "    <tr>\n",
       "      <th>0</th>\n",
       "      <td>428209002237</td>\n",
       "      <td>Ramsay was born in Glasgow on 2 October 1852. ...</td>\n",
       "      <td>ORG_YES_PRODUCT_NO_PERSON_YES_</td>\n",
       "      <td>49</td>\n",
       "      <td>12.0</td>\n",
       "      <td>man</td>\n",
       "      <td>biographies</td>\n",
       "    </tr>\n",
       "    <tr>\n",
       "      <th>1</th>\n",
       "      <td>564218010072</td>\n",
       "      <td>It has been widely estimated for at least the ...</td>\n",
       "      <td>ORG_YES_PRODUCT_NO_PERSON_NO_</td>\n",
       "      <td>166</td>\n",
       "      <td>47.0</td>\n",
       "      <td>man</td>\n",
       "      <td>artificial intelligence</td>\n",
       "    </tr>\n",
       "    <tr>\n",
       "      <th>2</th>\n",
       "      <td>291401001672</td>\n",
       "      <td>He went on to win the Royal Medal of the Royal...</td>\n",
       "      <td>ORG_YES_PRODUCT_NO_PERSON_NO_</td>\n",
       "      <td>69</td>\n",
       "      <td>18.0</td>\n",
       "      <td>non-binary</td>\n",
       "      <td>biographies</td>\n",
       "    </tr>\n",
       "    <tr>\n",
       "      <th>3</th>\n",
       "      <td>31548004883</td>\n",
       "      <td>The changes have altered many underlying assum...</td>\n",
       "      <td>ORG_NO_PRODUCT_YES_PERSON_NO_</td>\n",
       "      <td>76</td>\n",
       "      <td>27.0</td>\n",
       "      <td>non-binary</td>\n",
       "      <td>programming</td>\n",
       "    </tr>\n",
       "    <tr>\n",
       "      <th>4</th>\n",
       "      <td>50634005146</td>\n",
       "      <td>After these novels were published, Disraeli de...</td>\n",
       "      <td>ORG_YES_PRODUCT_YES_PERSON_YES_</td>\n",
       "      <td>200</td>\n",
       "      <td>47.0</td>\n",
       "      <td>man</td>\n",
       "      <td>biographies</td>\n",
       "    </tr>\n",
       "    <tr>\n",
       "      <th>...</th>\n",
       "      <td>...</td>\n",
       "      <td>...</td>\n",
       "      <td>...</td>\n",
       "      <td>...</td>\n",
       "      <td>...</td>\n",
       "      <td>...</td>\n",
       "      <td>...</td>\n",
       "    </tr>\n",
       "    <tr>\n",
       "      <th>9342</th>\n",
       "      <td>200523007578</td>\n",
       "      <td>Sir Joseph Dalton Hooker  was a British botani...</td>\n",
       "      <td>ORG_YES_PRODUCT_NO_PERSON_YES_</td>\n",
       "      <td>54</td>\n",
       "      <td>16.0</td>\n",
       "      <td>man</td>\n",
       "      <td>biographies</td>\n",
       "    </tr>\n",
       "    <tr>\n",
       "      <th>9343</th>\n",
       "      <td>50634005203</td>\n",
       "      <td>As successful invasions of India generally cam...</td>\n",
       "      <td>ORG_YES_PRODUCT_NO_PERSON_YES_</td>\n",
       "      <td>217</td>\n",
       "      <td>46.0</td>\n",
       "      <td>woman</td>\n",
       "      <td>biographies</td>\n",
       "    </tr>\n",
       "    <tr>\n",
       "      <th>9344</th>\n",
       "      <td>6437003939</td>\n",
       "      <td>Hawking was born on 8 January 1942 in Oxford t...</td>\n",
       "      <td>ORG_YES_PRODUCT_NO_PERSON_YES_</td>\n",
       "      <td>91</td>\n",
       "      <td>27.0</td>\n",
       "      <td>woman</td>\n",
       "      <td>biographies</td>\n",
       "    </tr>\n",
       "    <tr>\n",
       "      <th>9345</th>\n",
       "      <td>725259002815</td>\n",
       "      <td>More complex tasks can be making custom data e...</td>\n",
       "      <td>ORG_YES_PRODUCT_NO_PERSON_NO_</td>\n",
       "      <td>47</td>\n",
       "      <td>15.0</td>\n",
       "      <td>man</td>\n",
       "      <td>programming</td>\n",
       "    </tr>\n",
       "    <tr>\n",
       "      <th>9346</th>\n",
       "      <td>109126000894</td>\n",
       "      <td>Governments, and especially the police and cou...</td>\n",
       "      <td>ORG_NO_PRODUCT_NO_PERSON_NO_</td>\n",
       "      <td>87</td>\n",
       "      <td>8.0</td>\n",
       "      <td>man</td>\n",
       "      <td>philosophy</td>\n",
       "    </tr>\n",
       "  </tbody>\n",
       "</table>\n",
       "<p>9347 rows × 7 columns</p>\n",
       "</div>"
      ],
      "text/plain": [
       "            par_id                                          paragraph  \\\n",
       "0     428209002237  Ramsay was born in Glasgow on 2 October 1852. ...   \n",
       "1     564218010072  It has been widely estimated for at least the ...   \n",
       "2     291401001672  He went on to win the Royal Medal of the Royal...   \n",
       "3      31548004883  The changes have altered many underlying assum...   \n",
       "4      50634005146  After these novels were published, Disraeli de...   \n",
       "...            ...                                                ...   \n",
       "9342  200523007578  Sir Joseph Dalton Hooker  was a British botani...   \n",
       "9343   50634005203  As successful invasions of India generally cam...   \n",
       "9344    6437003939  Hawking was born on 8 January 1942 in Oxford t...   \n",
       "9345  725259002815  More complex tasks can be making custom data e...   \n",
       "9346  109126000894  Governments, and especially the police and cou...   \n",
       "\n",
       "                           has_entity  lexicon_count  difficult_words  \\\n",
       "0      ORG_YES_PRODUCT_NO_PERSON_YES_             49             12.0   \n",
       "1       ORG_YES_PRODUCT_NO_PERSON_NO_            166             47.0   \n",
       "2       ORG_YES_PRODUCT_NO_PERSON_NO_             69             18.0   \n",
       "3       ORG_NO_PRODUCT_YES_PERSON_NO_             76             27.0   \n",
       "4     ORG_YES_PRODUCT_YES_PERSON_YES_            200             47.0   \n",
       "...                               ...            ...              ...   \n",
       "9342   ORG_YES_PRODUCT_NO_PERSON_YES_             54             16.0   \n",
       "9343   ORG_YES_PRODUCT_NO_PERSON_YES_            217             46.0   \n",
       "9344   ORG_YES_PRODUCT_NO_PERSON_YES_             91             27.0   \n",
       "9345    ORG_YES_PRODUCT_NO_PERSON_NO_             47             15.0   \n",
       "9346     ORG_NO_PRODUCT_NO_PERSON_NO_             87              8.0   \n",
       "\n",
       "     last_editor_gender                 category  \n",
       "0                   man              biographies  \n",
       "1                   man  artificial intelligence  \n",
       "2            non-binary              biographies  \n",
       "3            non-binary              programming  \n",
       "4                   man              biographies  \n",
       "...                 ...                      ...  \n",
       "9342                man              biographies  \n",
       "9343              woman              biographies  \n",
       "9344              woman              biographies  \n",
       "9345                man              programming  \n",
       "9346                man               philosophy  \n",
       "\n",
       "[9347 rows x 7 columns]"
      ]
     },
     "execution_count": 142,
     "metadata": {},
     "output_type": "execute_result"
    }
   ],
   "source": [
    "data"
   ]
  },
  {
   "cell_type": "code",
   "execution_count": 143,
   "id": "1bec6267-9ab4-4df1-9ac8-944c52e52984",
   "metadata": {},
   "outputs": [],
   "source": [
    "pseudo_labels_df = pd.DataFrame({'text_clarity':pseudo_label_data})"
   ]
  },
  {
   "cell_type": "code",
   "execution_count": 144,
   "id": "f547d426-3637-4c52-8114-8b1de748f8fc",
   "metadata": {},
   "outputs": [],
   "source": [
    "data = pd.concat([data,pseudo_labels_df],axis=1)"
   ]
  },
  {
   "cell_type": "code",
   "execution_count": 145,
   "id": "79183bef-7d82-4bdf-b834-bedbe371668b",
   "metadata": {},
   "outputs": [
    {
     "data": {
      "text/html": [
       "<div>\n",
       "<style scoped>\n",
       "    .dataframe tbody tr th:only-of-type {\n",
       "        vertical-align: middle;\n",
       "    }\n",
       "\n",
       "    .dataframe tbody tr th {\n",
       "        vertical-align: top;\n",
       "    }\n",
       "\n",
       "    .dataframe thead th {\n",
       "        text-align: right;\n",
       "    }\n",
       "</style>\n",
       "<table border=\"1\" class=\"dataframe\">\n",
       "  <thead>\n",
       "    <tr style=\"text-align: right;\">\n",
       "      <th></th>\n",
       "      <th>par_id</th>\n",
       "      <th>paragraph</th>\n",
       "      <th>has_entity</th>\n",
       "      <th>lexicon_count</th>\n",
       "      <th>difficult_words</th>\n",
       "      <th>last_editor_gender</th>\n",
       "      <th>category</th>\n",
       "      <th>text_clarity</th>\n",
       "    </tr>\n",
       "  </thead>\n",
       "  <tbody>\n",
       "    <tr>\n",
       "      <th>0</th>\n",
       "      <td>428209002237</td>\n",
       "      <td>Ramsay was born in Glasgow on 2 October 1852. ...</td>\n",
       "      <td>ORG_YES_PRODUCT_NO_PERSON_YES_</td>\n",
       "      <td>49</td>\n",
       "      <td>12.0</td>\n",
       "      <td>man</td>\n",
       "      <td>biographies</td>\n",
       "      <td>clear_enough</td>\n",
       "    </tr>\n",
       "    <tr>\n",
       "      <th>1</th>\n",
       "      <td>564218010072</td>\n",
       "      <td>It has been widely estimated for at least the ...</td>\n",
       "      <td>ORG_YES_PRODUCT_NO_PERSON_NO_</td>\n",
       "      <td>166</td>\n",
       "      <td>47.0</td>\n",
       "      <td>man</td>\n",
       "      <td>artificial intelligence</td>\n",
       "      <td>not_clear_enough</td>\n",
       "    </tr>\n",
       "    <tr>\n",
       "      <th>2</th>\n",
       "      <td>291401001672</td>\n",
       "      <td>He went on to win the Royal Medal of the Royal...</td>\n",
       "      <td>ORG_YES_PRODUCT_NO_PERSON_NO_</td>\n",
       "      <td>69</td>\n",
       "      <td>18.0</td>\n",
       "      <td>non-binary</td>\n",
       "      <td>biographies</td>\n",
       "      <td>clear_enough</td>\n",
       "    </tr>\n",
       "    <tr>\n",
       "      <th>3</th>\n",
       "      <td>31548004883</td>\n",
       "      <td>The changes have altered many underlying assum...</td>\n",
       "      <td>ORG_NO_PRODUCT_YES_PERSON_NO_</td>\n",
       "      <td>76</td>\n",
       "      <td>27.0</td>\n",
       "      <td>non-binary</td>\n",
       "      <td>programming</td>\n",
       "      <td>clear_enough</td>\n",
       "    </tr>\n",
       "    <tr>\n",
       "      <th>4</th>\n",
       "      <td>50634005146</td>\n",
       "      <td>After these novels were published, Disraeli de...</td>\n",
       "      <td>ORG_YES_PRODUCT_YES_PERSON_YES_</td>\n",
       "      <td>200</td>\n",
       "      <td>47.0</td>\n",
       "      <td>man</td>\n",
       "      <td>biographies</td>\n",
       "      <td>not_clear_enough</td>\n",
       "    </tr>\n",
       "    <tr>\n",
       "      <th>...</th>\n",
       "      <td>...</td>\n",
       "      <td>...</td>\n",
       "      <td>...</td>\n",
       "      <td>...</td>\n",
       "      <td>...</td>\n",
       "      <td>...</td>\n",
       "      <td>...</td>\n",
       "      <td>...</td>\n",
       "    </tr>\n",
       "    <tr>\n",
       "      <th>9342</th>\n",
       "      <td>200523007578</td>\n",
       "      <td>Sir Joseph Dalton Hooker  was a British botani...</td>\n",
       "      <td>ORG_YES_PRODUCT_NO_PERSON_YES_</td>\n",
       "      <td>54</td>\n",
       "      <td>16.0</td>\n",
       "      <td>man</td>\n",
       "      <td>biographies</td>\n",
       "      <td>NaN</td>\n",
       "    </tr>\n",
       "    <tr>\n",
       "      <th>9343</th>\n",
       "      <td>50634005203</td>\n",
       "      <td>As successful invasions of India generally cam...</td>\n",
       "      <td>ORG_YES_PRODUCT_NO_PERSON_YES_</td>\n",
       "      <td>217</td>\n",
       "      <td>46.0</td>\n",
       "      <td>woman</td>\n",
       "      <td>biographies</td>\n",
       "      <td>NaN</td>\n",
       "    </tr>\n",
       "    <tr>\n",
       "      <th>9344</th>\n",
       "      <td>6437003939</td>\n",
       "      <td>Hawking was born on 8 January 1942 in Oxford t...</td>\n",
       "      <td>ORG_YES_PRODUCT_NO_PERSON_YES_</td>\n",
       "      <td>91</td>\n",
       "      <td>27.0</td>\n",
       "      <td>woman</td>\n",
       "      <td>biographies</td>\n",
       "      <td>NaN</td>\n",
       "    </tr>\n",
       "    <tr>\n",
       "      <th>9345</th>\n",
       "      <td>725259002815</td>\n",
       "      <td>More complex tasks can be making custom data e...</td>\n",
       "      <td>ORG_YES_PRODUCT_NO_PERSON_NO_</td>\n",
       "      <td>47</td>\n",
       "      <td>15.0</td>\n",
       "      <td>man</td>\n",
       "      <td>programming</td>\n",
       "      <td>NaN</td>\n",
       "    </tr>\n",
       "    <tr>\n",
       "      <th>9346</th>\n",
       "      <td>109126000894</td>\n",
       "      <td>Governments, and especially the police and cou...</td>\n",
       "      <td>ORG_NO_PRODUCT_NO_PERSON_NO_</td>\n",
       "      <td>87</td>\n",
       "      <td>8.0</td>\n",
       "      <td>man</td>\n",
       "      <td>philosophy</td>\n",
       "      <td>NaN</td>\n",
       "    </tr>\n",
       "  </tbody>\n",
       "</table>\n",
       "<p>9347 rows × 8 columns</p>\n",
       "</div>"
      ],
      "text/plain": [
       "            par_id                                          paragraph  \\\n",
       "0     428209002237  Ramsay was born in Glasgow on 2 October 1852. ...   \n",
       "1     564218010072  It has been widely estimated for at least the ...   \n",
       "2     291401001672  He went on to win the Royal Medal of the Royal...   \n",
       "3      31548004883  The changes have altered many underlying assum...   \n",
       "4      50634005146  After these novels were published, Disraeli de...   \n",
       "...            ...                                                ...   \n",
       "9342  200523007578  Sir Joseph Dalton Hooker  was a British botani...   \n",
       "9343   50634005203  As successful invasions of India generally cam...   \n",
       "9344    6437003939  Hawking was born on 8 January 1942 in Oxford t...   \n",
       "9345  725259002815  More complex tasks can be making custom data e...   \n",
       "9346  109126000894  Governments, and especially the police and cou...   \n",
       "\n",
       "                           has_entity  lexicon_count  difficult_words  \\\n",
       "0      ORG_YES_PRODUCT_NO_PERSON_YES_             49             12.0   \n",
       "1       ORG_YES_PRODUCT_NO_PERSON_NO_            166             47.0   \n",
       "2       ORG_YES_PRODUCT_NO_PERSON_NO_             69             18.0   \n",
       "3       ORG_NO_PRODUCT_YES_PERSON_NO_             76             27.0   \n",
       "4     ORG_YES_PRODUCT_YES_PERSON_YES_            200             47.0   \n",
       "...                               ...            ...              ...   \n",
       "9342   ORG_YES_PRODUCT_NO_PERSON_YES_             54             16.0   \n",
       "9343   ORG_YES_PRODUCT_NO_PERSON_YES_            217             46.0   \n",
       "9344   ORG_YES_PRODUCT_NO_PERSON_YES_             91             27.0   \n",
       "9345    ORG_YES_PRODUCT_NO_PERSON_NO_             47             15.0   \n",
       "9346     ORG_NO_PRODUCT_NO_PERSON_NO_             87              8.0   \n",
       "\n",
       "     last_editor_gender                 category      text_clarity  \n",
       "0                   man              biographies      clear_enough  \n",
       "1                   man  artificial intelligence  not_clear_enough  \n",
       "2            non-binary              biographies      clear_enough  \n",
       "3            non-binary              programming      clear_enough  \n",
       "4                   man              biographies  not_clear_enough  \n",
       "...                 ...                      ...               ...  \n",
       "9342                man              biographies               NaN  \n",
       "9343              woman              biographies               NaN  \n",
       "9344              woman              biographies               NaN  \n",
       "9345                man              programming               NaN  \n",
       "9346                man               philosophy               NaN  \n",
       "\n",
       "[9347 rows x 8 columns]"
      ]
     },
     "execution_count": 145,
     "metadata": {},
     "output_type": "execute_result"
    }
   ],
   "source": [
    "data"
   ]
  },
  {
   "cell_type": "code",
   "execution_count": 146,
   "id": "e05cafc7-fd15-4bfa-98c0-2164770e6897",
   "metadata": {},
   "outputs": [],
   "source": [
    "data.to_csv(\"coursework_dataset.csv\")"
   ]
  },
  {
   "cell_type": "markdown",
   "id": "8cac9a67-86a7-46e0-9fc6-ae26d8da1eb7",
   "metadata": {},
   "source": [
    "##### Model building using pseudo label"
   ]
  },
  {
   "cell_type": "code",
   "execution_count": 147,
   "id": "7cf3ff86-951a-44c4-a4ec-0a3970596fdc",
   "metadata": {},
   "outputs": [],
   "source": [
    "pseudo_label_data = pd.Categorical(pseudo_label)"
   ]
  },
  {
   "cell_type": "code",
   "execution_count": 148,
   "id": "83c87d55-48f5-4589-ae58-d73913128281",
   "metadata": {},
   "outputs": [
    {
     "data": {
      "text/plain": [
       "[0, 1, 0, 0, 1, ..., 0, 0, 1, 0, 1]\n",
       "Length: 1000\n",
       "Categories (2, int32): [0, 1]"
      ]
     },
     "execution_count": 148,
     "metadata": {},
     "output_type": "execute_result"
    }
   ],
   "source": [
    "pseudo_label_data"
   ]
  },
  {
   "cell_type": "code",
   "execution_count": 149,
   "id": "e40742c3-a625-45d6-8ba1-77f4e20e12da",
   "metadata": {},
   "outputs": [],
   "source": [
    "pseudo_labels_df = pd.DataFrame({'text_clarity':pseudo_label_data})"
   ]
  },
  {
   "cell_type": "code",
   "execution_count": 150,
   "id": "aff9626f-8921-4d0e-8e65-c354f1283d82",
   "metadata": {},
   "outputs": [
    {
     "data": {
      "text/plain": [
       "text_clarity\n",
       "0               699\n",
       "1               301\n",
       "Name: count, dtype: int64"
      ]
     },
     "execution_count": 150,
     "metadata": {},
     "output_type": "execute_result"
    }
   ],
   "source": [
    "pseudo_labels_df.value_counts()"
   ]
  },
  {
   "cell_type": "markdown",
   "id": "30871aa8-5f49-43d8-8fe3-12f41120a9c7",
   "metadata": {},
   "source": [
    "here 0 indicates clear_enough and 1 indicates not_clear_enough. "
   ]
  },
  {
   "cell_type": "markdown",
   "id": "603c38e8-3ba7-499c-adbe-d25e3b41e966",
   "metadata": {},
   "source": [
    "splitting the dataset"
   ]
  },
  {
   "cell_type": "code",
   "execution_count": 152,
   "id": "59ebf4e0-661b-4129-8080-a54184faf100",
   "metadata": {},
   "outputs": [],
   "source": [
    "train_dataset, test_dataset, train_label, test_label = train_test_split(new_feature_dataset,pseudo_labels_df,\n",
    "                                                                        test_size=0.2,\n",
    "                                                                        stratify=pseudo_labels_df,\n",
    "                                                                        shuffle=True,\n",
    "                                                                        random_state=7\n",
    "                                                                       )"
   ]
  },
  {
   "cell_type": "markdown",
   "id": "dd3a8ade-780a-4f3c-aced-65871ced23dd",
   "metadata": {},
   "source": [
    "Training Data"
   ]
  },
  {
   "cell_type": "code",
   "execution_count": 166,
   "id": "86b356b1-e567-43f6-a44a-25df85fdd497",
   "metadata": {},
   "outputs": [
    {
     "name": "stdout",
     "output_type": "stream",
     "text": [
      "The shape of training dataset is: \n",
      "(800, 8438)\n",
      "The shape of the label data is: \n",
      "(800, 1)\n"
     ]
    }
   ],
   "source": [
    "# Shape of input data\n",
    "print(\"The shape of training dataset is: \")\n",
    "print(train_dataset.shape)\n",
    "# Shape of output data\n",
    "print(\"The shape of the label data is: \")\n",
    "print(train_label.shape)"
   ]
  },
  {
   "cell_type": "code",
   "execution_count": 153,
   "id": "90668e3c-2b79-4b21-a04a-a2014b0f4c21",
   "metadata": {},
   "outputs": [
    {
     "data": {
      "text/plain": [
       "text_clarity\n",
       "0               559\n",
       "1               241\n",
       "Name: count, dtype: int64"
      ]
     },
     "execution_count": 153,
     "metadata": {},
     "output_type": "execute_result"
    }
   ],
   "source": [
    "train_label.value_counts()"
   ]
  },
  {
   "cell_type": "markdown",
   "id": "65adff15-e65d-4246-be54-e8e5c3b2c5ae",
   "metadata": {},
   "source": [
    "Test data"
   ]
  },
  {
   "cell_type": "code",
   "execution_count": 154,
   "id": "0a289d48-d581-46a7-9327-ce7e273a1023",
   "metadata": {},
   "outputs": [
    {
     "name": "stdout",
     "output_type": "stream",
     "text": [
      "The shape of test dataset is: \n",
      "(200, 8438)\n",
      "The shape of the label data is: \n",
      "(200, 1)\n"
     ]
    }
   ],
   "source": [
    "# Shape of input data\n",
    "print(\"The shape of test dataset is: \")\n",
    "print(test_dataset.shape)\n",
    "# Shape of output data\n",
    "print(\"The shape of the label data is: \")\n",
    "print(test_label.shape)"
   ]
  },
  {
   "cell_type": "markdown",
   "id": "9804ae81-fb6c-410d-a6d4-5af4db49328b",
   "metadata": {},
   "source": [
    "Since the class is imbalanced in the training data, performing over sampling"
   ]
  },
  {
   "cell_type": "code",
   "execution_count": 155,
   "id": "24706397-4f61-4682-ab84-f5099628eb22",
   "metadata": {},
   "outputs": [],
   "source": [
    "sampler = RandomOverSampler(random_state=42)\n",
    "train_dataset_resampled , train_label_resampled = sampler.fit_resample(train_dataset,train_label)"
   ]
  },
  {
   "cell_type": "code",
   "execution_count": 156,
   "id": "c6b43928-2c5a-4cc2-a183-0eed1cf1eaa8",
   "metadata": {},
   "outputs": [
    {
     "data": {
      "text/plain": [
       "(1118, 8438)"
      ]
     },
     "execution_count": 156,
     "metadata": {},
     "output_type": "execute_result"
    }
   ],
   "source": [
    "train_dataset_resampled.shape"
   ]
  },
  {
   "cell_type": "code",
   "execution_count": 157,
   "id": "2212e44e-ae96-4224-a5d4-ae6463a17763",
   "metadata": {},
   "outputs": [
    {
     "data": {
      "text/plain": [
       "(1118, 1)"
      ]
     },
     "execution_count": 157,
     "metadata": {},
     "output_type": "execute_result"
    }
   ],
   "source": [
    "train_label_resampled.shape"
   ]
  },
  {
   "cell_type": "code",
   "execution_count": 158,
   "id": "e9fac8bf-282e-4709-832b-0b1f2646a11a",
   "metadata": {},
   "outputs": [
    {
     "data": {
      "text/plain": [
       "text_clarity\n",
       "0               559\n",
       "1               559\n",
       "Name: count, dtype: int64"
      ]
     },
     "execution_count": 158,
     "metadata": {},
     "output_type": "execute_result"
    }
   ],
   "source": [
    "train_label_resampled.value_counts()"
   ]
  },
  {
   "cell_type": "markdown",
   "id": "ad526167-d25e-4645-9f1b-6064e69bb0f7",
   "metadata": {},
   "source": [
    "##### Logistic regression"
   ]
  },
  {
   "cell_type": "code",
   "execution_count": 160,
   "id": "d3306305-acae-4f86-947a-3c92bec97e7e",
   "metadata": {},
   "outputs": [],
   "source": [
    "# defining the logistic regression pipeline\n",
    "clf_lr_ = Pipeline(\n",
    "    steps =[\n",
    "              ('clf_lr', LogisticRegression()),\n",
    "    ]\n",
    "    )\n",
    "\n",
    "#defining the hyperparameters\n",
    "hyperparameters_lr = {\n",
    "    'clf_lr__penalty': ['l1','l2'],\n",
    "    'clf_lr__solver': ['liblinear' ],\n",
    "    'clf_lr__C': [0.01, 0.1,0.5,1],\n",
    "}\n",
    "\n",
    "\n",
    "# create the GridSearch function\n",
    "clf_search = GridSearchCV(clf_lr_, hyperparameters_lr, scoring= \"accuracy\", cv= 5, return_train_score=True) #we can use accuracy here since the dataset is balanced\n",
    "# Fit all the possible hyper-parameters combinations using cross-validation.\n",
    "_ =clf_search.fit(train_dataset_resampled, train_label_resampled['text_clarity'])"
   ]
  },
  {
   "cell_type": "code",
   "execution_count": 161,
   "id": "f5d97342-f18f-449c-99e1-dd1d35b6a4a3",
   "metadata": {},
   "outputs": [
    {
     "name": "stdout",
     "output_type": "stream",
     "text": [
      "0.8801729660474056 {'clf_lr__C': 1, 'clf_lr__penalty': 'l1', 'clf_lr__solver': 'liblinear'}\n"
     ]
    }
   ],
   "source": [
    "print(clf_search.best_score_, clf_search.best_params_)"
   ]
  },
  {
   "cell_type": "code",
   "execution_count": 162,
   "id": "0e4385ce-a55b-4ed8-80a1-c1cd6fa28bc7",
   "metadata": {},
   "outputs": [],
   "source": [
    "best_clf = clf_search.best_estimator_"
   ]
  },
  {
   "cell_type": "code",
   "execution_count": 164,
   "id": "11887540-2040-47fd-a11d-a79dbaf1160a",
   "metadata": {},
   "outputs": [
    {
     "name": "stdout",
     "output_type": "stream",
     "text": [
      "              precision    recall  f1-score   support\n",
      "\n",
      "           0       0.95      0.88      0.91       140\n",
      "           1       0.76      0.90      0.82        60\n",
      "\n",
      "    accuracy                           0.89       200\n",
      "   macro avg       0.86      0.89      0.87       200\n",
      "weighted avg       0.90      0.89      0.89       200\n",
      "\n"
     ]
    },
    {
     "data": {
      "image/png": "[encoded data removed]",
      "text/plain": [
       "<Figure size 640x480 with 2 Axes>"
      ]
     },
     "metadata": {},
     "output_type": "display_data"
    }
   ],
   "source": [
    "y_pred = best_clf.predict(test_dataset)\n",
    "print(classification_report(test_label['text_clarity'], y_pred))\n",
    "cm= ConfusionMatrixDisplay.from_estimator(best_clf, test_dataset, test_label['text_clarity'])"
   ]
  },
  {
   "cell_type": "markdown",
   "id": "438302ea-7a40-4f6b-87df-a455eff65fc6",
   "metadata": {},
   "source": [
    "##### Random forest"
   ]
  },
  {
   "cell_type": "code",
   "execution_count": 165,
   "id": "e50b5ed4-9d46-4ad2-9034-ebf030e4946b",
   "metadata": {},
   "outputs": [],
   "source": [
    "# defining the randomforest pipeline\n",
    "clf_rf_ = Pipeline(\n",
    "        steps =[\n",
    "              ('clf_rf', RandomForestClassifier()),\n",
    "      ]\n",
    "    )\n",
    "\n",
    "#defining the hyperparameters\n",
    "hyperparameters_rf = {\n",
    "    'clf_rf__n_estimators': [100,200,300],\n",
    "    'clf_rf__criterion': ['gini','entropy','log_loss'],\n",
    "    'clf_rf__max_features': ['log2', 'sqrt'],\n",
    "    'clf_rf__bootstrap': [True, False]\n",
    "}\n",
    "\n",
    "\n",
    "# create the GridSearch function\n",
    "clf_search = GridSearchCV(clf_rf_, hyperparameters_rf, scoring= \"accuracy\", cv= 5, return_train_score=True) #we can use accuracy here since the dataset is balanced\n",
    "# Fit all the possible hyper-parameters combinations using cross-validation.\n",
    "_ =clf_search.fit(train_dataset, train_label['text_clarity'])"
   ]
  },
  {
   "cell_type": "code",
   "execution_count": 167,
   "id": "792235d9-e49e-42ce-9ee3-669f620449a2",
   "metadata": {},
   "outputs": [
    {
     "name": "stdout",
     "output_type": "stream",
     "text": [
      "0.8924999999999998 {'clf_rf__bootstrap': False, 'clf_rf__criterion': 'gini', 'clf_rf__max_features': 'sqrt', 'clf_rf__n_estimators': 300}\n"
     ]
    }
   ],
   "source": [
    "print(clf_search.best_score_, clf_search.best_params_)"
   ]
  },
  {
   "cell_type": "code",
   "execution_count": 168,
   "id": "8cd5e9ea-b302-4f83-8d99-6b61fbc7906a",
   "metadata": {},
   "outputs": [],
   "source": [
    "best_clf = clf_search.best_estimator_"
   ]
  },
  {
   "cell_type": "code",
   "execution_count": 169,
   "id": "d3454bf6-8ac3-49c6-b702-055ff848d5f5",
   "metadata": {},
   "outputs": [
    {
     "name": "stdout",
     "output_type": "stream",
     "text": [
      "              precision    recall  f1-score   support\n",
      "\n",
      "           0       0.88      0.99      0.93       140\n",
      "           1       0.95      0.68      0.80        60\n",
      "\n",
      "    accuracy                           0.90       200\n",
      "   macro avg       0.92      0.83      0.86       200\n",
      "weighted avg       0.90      0.90      0.89       200\n",
      "\n"
     ]
    },
    {
     "data": {
      "image/png": "[encoded data removed]",
      "text/plain": [
       "<Figure size 640x480 with 2 Axes>"
      ]
     },
     "metadata": {},
     "output_type": "display_data"
    }
   ],
   "source": [
    "y_pred = best_clf.predict(test_dataset)\n",
    "print(classification_report(test_label['text_clarity'], y_pred))\n",
    "cm= ConfusionMatrixDisplay.from_estimator(best_clf, test_dataset, test_label['text_clarity'])"
   ]
  },
  {
   "cell_type": "code",
   "execution_count": null,
   "id": "b2022161-8203-43c8-a3ac-10202dc99ec3",
   "metadata": {},
   "outputs": [],
   "source": []
  }
 ],
 "metadata": {
  "kernelspec": {
   "display_name": "Python 3 (ipykernel)",
   "language": "python",
   "name": "python3"
  },
  "language_info": {
   "codemirror_mode": {
    "name": "ipython",
    "version": 3
   },
   "file_extension": ".py",
   "mimetype": "text/x-python",
   "name": "python",
   "nbconvert_exporter": "python",
   "pygments_lexer": "ipython3",
   "version": "3.12.1"
  }
 },
 "nbformat": 4,
 "nbformat_minor": 5
}
